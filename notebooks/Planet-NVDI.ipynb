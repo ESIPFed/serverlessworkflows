{
 "cells": [
  {
   "cell_type": "markdown",
   "metadata": {},
   "source": [
    "### This notebook describes the programmatic way for downloading Planet Scope Ortho Tiles (PSOrthoTiles) using a Planet API key, clipping the tile to a provided geometry and calculating the NVDI\n",
    "\n",
    "\n"
   ]
  },
  {
   "cell_type": "markdown",
   "metadata": {},
   "source": [
    "-----"
   ]
  },
  {
   "cell_type": "markdown",
   "metadata": {},
   "source": [
    "###  Step 1: Download a PlanetScope 4-band Ortho Tile given a specified geometry\n",
    "\n",
    "In this step you will learn to \n",
    "\n",
    "a) Set your Planet API Key and pass it to the code as an environment variable. \n"
   ]
  },
  {
   "cell_type": "code",
   "execution_count": 63,
   "metadata": {},
   "outputs": [],
   "source": [
    "# Import relevant packages\n",
    "\n",
    "import os\n",
    "from os.path import join, dirname\n",
    "import json\n",
    "from dotenv import load_dotenv\n",
    "import numpy as np\n",
    "import rasterio\n",
    "import requests\n",
    "from requests.auth import HTTPBasicAuth\n",
    "from retrying import retry\n",
    "import time\n",
    "from tqdm import tqdm\n",
    "import zipfile"
   ]
  },
  {
   "cell_type": "code",
   "execution_count": 21,
   "metadata": {},
   "outputs": [],
   "source": [
    "# Import planet API key as stored environment variable\n",
    "\n",
    "load_dotenv('.env')\n",
    "\n",
    "PL_API_KEY = str(os.getenv('PLANET_API_KEY'))"
   ]
  },
  {
   "cell_type": "code",
   "execution_count": 22,
   "metadata": {},
   "outputs": [],
   "source": [
    "# Define geometry of study area\n",
    "\n",
    "geojson_geometry = {\n",
    "  \"type\": \"Polygon\",\n",
    "  \"coordinates\": [\n",
    "    [\n",
    "      [\n",
    "              -121.72562956809998,\n",
    "              46.77024032708875\n",
    "            ],\n",
    "            [\n",
    "              -121.72287225723267,\n",
    "              46.77024032708875\n",
    "            ],\n",
    "            [\n",
    "              -121.72287225723267,\n",
    "              46.77120296608276\n",
    "            ],\n",
    "            [\n",
    "              -121.72562956809998,\n",
    "              46.77120296608276\n",
    "            ],\n",
    "            [\n",
    "              -121.72562956809998,\n",
    "              46.77024032708875\n",
    "            ]\n",
    "    ]\n",
    "  ]\n",
    "}\n",
    "\n",
    "# filter for items the overlap with our chosen geometry\n",
    "geometry_filter = {\n",
    "  \"type\": \"GeometryFilter\",\n",
    "  \"field_name\": \"geometry\",\n",
    "  \"config\": geojson_geometry\n",
    "}\n",
    "\n",
    "# filter images acquired in a certain date range\n",
    "date_range_filter = {\n",
    "  \"type\": \"DateRangeFilter\",\n",
    "  \"field_name\": \"acquired\",\n",
    "  \"config\": {\n",
    "    \"gte\": \"2018-07-01T00:00:00.000Z\",\n",
    "    \"lte\": \"2018-08-01T00:00:00.000Z\"\n",
    "  }\n",
    "}\n",
    "\n",
    "# filter any images which are more than 50% clouds\n",
    "cloud_cover_filter = {\n",
    "  \"type\": \"RangeFilter\",\n",
    "  \"field_name\": \"cloud_cover\",\n",
    "  \"config\": {\n",
    "    \"lte\": 0.5\n",
    "  }\n",
    "}\n",
    "\n",
    "# create a filter that combines our geo and date filters\n",
    "# could also use an \"OrFilter\"\n",
    "plot_1 = {\n",
    "  \"type\": \"AndFilter\",\n",
    "  \"config\": [geometry_filter, date_range_filter, cloud_cover_filter]\n",
    "}"
   ]
  },
  {
   "cell_type": "code",
   "execution_count": 23,
   "metadata": {},
   "outputs": [
    {
     "name": "stdout",
     "output_type": "stream",
     "text": [
      "{\"utc_offset\": \"+0h\", \"interval\": \"day\", \"buckets\": [{\"count\": 3, \"start_time\": \"2018-07-03T00:00:00.000000Z\"}, {\"count\": 2, \"start_time\": \"2018-07-05T00:00:00.000000Z\"}, {\"count\": 1, \"start_time\": \"2018-07-09T00:00:00.000000Z\"}, {\"count\": 1, \"start_time\": \"2018-07-11T00:00:00.000000Z\"}, {\"count\": 2, \"start_time\": \"2018-07-12T00:00:00.000000Z\"}, {\"count\": 1, \"start_time\": \"2018-07-13T00:00:00.000000Z\"}, {\"count\": 1, \"start_time\": \"2018-07-14T00:00:00.000000Z\"}, {\"count\": 2, \"start_time\": \"2018-07-15T00:00:00.000000Z\"}, {\"count\": 1, \"start_time\": \"2018-07-16T00:00:00.000000Z\"}, {\"count\": 1, \"start_time\": \"2018-07-17T00:00:00.000000Z\"}, {\"count\": 1, \"start_time\": \"2018-07-18T00:00:00.000000Z\"}, {\"count\": 1, \"start_time\": \"2018-07-19T00:00:00.000000Z\"}, {\"count\": 1, \"start_time\": \"2018-07-20T00:00:00.000000Z\"}, {\"count\": 3, \"start_time\": \"2018-07-21T00:00:00.000000Z\"}, {\"count\": 1, \"start_time\": \"2018-07-22T00:00:00.000000Z\"}, {\"count\": 2, \"start_time\": \"2018-07-23T00:00:00.000000Z\"}, {\"count\": 2, \"start_time\": \"2018-07-24T00:00:00.000000Z\"}, {\"count\": 2, \"start_time\": \"2018-07-25T00:00:00.000000Z\"}, {\"count\": 1, \"start_time\": \"2018-07-26T00:00:00.000000Z\"}, {\"count\": 2, \"start_time\": \"2018-07-27T00:00:00.000000Z\"}, {\"count\": 2, \"start_time\": \"2018-07-29T00:00:00.000000Z\"}, {\"count\": 2, \"start_time\": \"2018-07-30T00:00:00.000000Z\"}]}\n"
     ]
    }
   ],
   "source": [
    "#gets the stats - i.e. avaliable images in the timeframe\n",
    "# Stats API request object\n",
    "stats_endpoint_request = {\n",
    "  \"interval\": \"day\",\n",
    "  \"item_types\": [\"PSOrthoTile\"],\n",
    "  \"filter\": plot_1\n",
    "}\n",
    "\n",
    "# fire off the POST request\n",
    "result = \\\n",
    "  requests.post(\n",
    "    'https://api.planet.com/data/v1/stats',\n",
    "    auth=HTTPBasicAuth(PL_API_KEY, ''),\n",
    "    json=stats_endpoint_request)\n",
    "\n",
    "print (result.text)"
   ]
  },
  {
   "cell_type": "code",
   "execution_count": 24,
   "metadata": {},
   "outputs": [
    {
     "name": "stdout",
     "output_type": "stream",
     "text": [
      "{\"_links\": {\"_first\": \"https://api.planet.com/data/v1/searches/7af8a38f4cdf4c2db5c7232b8631c12e/results?_page=eyJxdWVyeV9wYXJhbXMiOiB7fSwgInNvcnRfcHJldiI6IGZhbHNlLCAicGFnZV9zaXplIjogMjUwLCAic29ydF9ieSI6ICJwdWJsaXNoZWQiLCAic29ydF9zdGFydCI6IG51bGwsICJzb3J0X2xhc3RfaWQiOiBudWxsLCAic29ydF9kZXNjIjogdHJ1ZX0%3D\", \"_next\": \"https://api.planet.com/data/v1/searches/7af8a38f4cdf4c2db5c7232b8631c12e/results?_page=eyJxdWVyeV9wYXJhbXMiOiB7fSwgInNvcnRfcHJldiI6IGZhbHNlLCAicGFnZV9zaXplIjogMjUwLCAic29ydF9ieSI6ICJwdWJsaXNoZWQiLCAic29ydF9zdGFydCI6ICIyMDE4LTA3LTAzVDIyOjQxOjE3LjAwMDAwMFoiLCAic29ydF9sYXN0X2lkIjogIjE1NDA5NzlfMTA2MDYxOV8yMDE4LTA3LTAzXzBmMTIiLCAic29ydF9kZXNjIjogdHJ1ZX0%3D\", \"_self\": \"https://api.planet.com/data/v1/searches/7af8a38f4cdf4c2db5c7232b8631c12e/results?_page=eyJxdWVyeV9wYXJhbXMiOiB7fSwgInNvcnRfcHJldiI6IGZhbHNlLCAicGFnZV9zaXplIjogMjUwLCAic29ydF9ieSI6ICJwdWJsaXNoZWQiLCAic29ydF9zdGFydCI6IG51bGwsICJzb3J0X2xhc3RfaWQiOiBudWxsLCAic29ydF9kZXNjIjogdHJ1ZX0%3D\"}, \"features\": [{\"_links\": {\"_self\": \"https://api.planet.com/data/v1/item-types/PSOrthoTile/items/1585833_1060619_2018-07-24_1105\", \"assets\": \"https://api.planet.com/data/v1/item-types/PSOrthoTile/items/1585833_1060619_2018-07-24_1105/assets/\", \"thumbnail\": \"https://tiles.planet.com/data/v1/item-types/PSOrthoTile/items/1585833_1060619_2018-07-24_1105/thumb\"}, \"_permissions\": [\"assets.analytic_xml:download\", \"assets.analytic_dn:download\", \"assets.analytic:download\", \"assets.visual:download\", \"assets.analytic_dn_xml:download\", \"assets.visual_xml:download\", \"assets.udm:download\"], \"geometry\": {\"coordinates\": [[[-121.47371187012703, 46.578808196944344], [-121.75351991452176, 46.58228886431465], [-121.7482842425254, 46.807201192520445], [-121.42079725068857, 46.80314747711326], [-121.42324342530982, 46.71853732931906], [-121.46843328278644, 46.58922003626173], [-121.47371187012703, 46.578808196944344]]], \"type\": \"Polygon\"}, \"id\": \"1585833_1060619_2018-07-24_1105\", \"properties\": {\"acquired\": \"2018-07-24T18:22:36.557038Z\", \"anomalous_pixels\": 0, \"black_fill\": 0.08, \"cloud_cover\": 0.001, \"columns\": 8000, \"epsg_code\": 32610, \"grid_cell\": \"1060619\", \"ground_control\": true, \"gsd\": 4, \"item_type\": \"PSOrthoTile\", \"origin_x\": 595500, \"origin_y\": 5184500, \"pixel_resolution\": 3.125, \"provider\": \"planetscope\", \"published\": \"2018-10-24T17:55:34Z\", \"rows\": 8000, \"satellite_id\": \"1105\", \"strip_id\": \"1585833\", \"sun_azimuth\": 130.7, \"sun_elevation\": 54.9, \"updated\": \"2018-10-25T21:27:18Z\", \"usable_data\": 0.92, \"view_angle\": 0.1}, \"type\": \"Feature\"}, {\"_links\": {\"_self\": \"https://api.planet.com/data/v1/item-types/PSOrthoTile/items/1598521_1060619_2018-07-30_1054\", \"assets\": \"https://api.planet.com/data/v1/item-types/PSOrthoTile/items/1598521_1060619_2018-07-30_1054/assets/\", \"thumbnail\": \"https://tiles.planet.com/data/v1/item-types/PSOrthoTile/items/1598521_1060619_2018-07-30_1054/thumb\"}, \"_permissions\": [\"assets.analytic_xml:download\", \"assets.analytic_dn:download\", \"assets.analytic:download\", \"assets.visual:download\", \"assets.analytic_dn_xml:download\", \"assets.visual_xml:download\", \"assets.udm:download\"], \"geometry\": {\"coordinates\": [[[-121.4289082507485, 46.578247729617324], [-121.75141706265437, 46.58225936807232], [-121.75339116848905, 46.588748154797486], [-121.74832715786964, 46.807201192520445], [-121.50087728302609, 46.80411687163074], [-121.44075288575658, 46.62179941111181], [-121.42732038301187, 46.57877869880841], [-121.4289082507485, 46.578247729617324]]], \"type\": \"Polygon\"}, \"id\": \"1598521_1060619_2018-07-30_1054\", \"properties\": {\"acquired\": \"2018-07-30T18:08:24.879653Z\", \"anomalous_pixels\": 0.16, \"black_fill\": 0.15, \"cloud_cover\": 0.159, \"columns\": 8000, \"epsg_code\": 32610, \"grid_cell\": \"1060619\", \"ground_control\": true, \"gsd\": 3.7, \"item_type\": \"PSOrthoTile\", \"origin_x\": 595500, \"origin_y\": 5184500, \"pixel_resolution\": 3.125, \"provider\": \"planetscope\", \"published\": \"2018-07-31T04:37:27Z\", \"rows\": 8000, \"satellite_id\": \"1054\", \"strip_id\": \"1598521\", \"sun_azimuth\": 127.4, \"sun_elevation\": 51.9, \"updated\": \"2018-07-31T07:34:23Z\", \"usable_data\": 0.69, \"view_angle\": 0.1}, \"type\": \"Feature\"}, {\"_links\": {\"_self\": \"https://api.planet.com/data/v1/item-types/PSOrthoTile/items/1597891_1060619_2018-07-30_1025\", \"assets\": \"https://api.planet.com/data/v1/item-types/PSOrthoTile/items/1597891_1060619_2018-07-30_1025/assets/\", \"thumbnail\": \"https://tiles.planet.com/data/v1/item-types/PSOrthoTile/items/1597891_1060619_2018-07-30_1025/thumb\"}, \"_permissions\": [\"assets.analytic_xml:download\", \"assets.analytic_dn:download\", \"assets.analytic:download\", \"assets.visual:download\", \"assets.analytic_dn_xml:download\", \"assets.visual_xml:download\", \"assets.udm:download\"], \"geometry\": {\"coordinates\": [[[-121.6312970141481, 46.58075503843498], [-121.75351991452176, 46.58225936807232], [-121.74832715786964, 46.807201192520445], [-121.55233278076064, 46.80479249990391], [-121.6312970141481, 46.58075503843498]]], \"type\": \"Polygon\"}, \"id\": \"1597891_1060619_2018-07-30_1025\", \"properties\": {\"acquired\": \"2018-07-30T18:30:32.389001Z\", \"anomalous_pixels\": 0.09, \"black_fill\": 0.53, \"cloud_cover\": 0.094, \"columns\": 8000, \"epsg_code\": 32610, \"grid_cell\": \"1060619\", \"ground_control\": true, \"gsd\": 3.9, \"item_type\": \"PSOrthoTile\", \"origin_x\": 595500, \"origin_y\": 5184500, \"pixel_resolution\": 3.125, \"provider\": \"planetscope\", \"published\": \"2018-07-30T22:42:09Z\", \"rows\": 8000, \"satellite_id\": \"1025\", \"strip_id\": \"1597891\", \"sun_azimuth\": 134.6, \"sun_elevation\": 54.7, \"updated\": \"2018-07-31T06:56:37Z\", \"usable_data\": 0.38, \"view_angle\": 0}, \"type\": \"Feature\"}, {\"_links\": {\"_self\": \"https://api.planet.com/data/v1/item-types/PSOrthoTile/items/1596058_1060619_2018-07-29_0f49\", \"assets\": \"https://api.planet.com/data/v1/item-types/PSOrthoTile/items/1596058_1060619_2018-07-29_0f49/assets/\", \"thumbnail\": \"https://tiles.planet.com/data/v1/item-types/PSOrthoTile/items/1596058_1060619_2018-07-29_0f49/thumb\"}, \"_permissions\": [\"assets.analytic_xml:download\", \"assets.analytic_dn:download\", \"assets.analytic:download\", \"assets.visual:download\", \"assets.analytic_dn_xml:download\", \"assets.visual_xml:download\", \"assets.udm:download\"], \"geometry\": {\"coordinates\": [[[-121.51722802917858, 46.57933916064711], [-121.75351991452176, 46.58225936807232], [-121.74832715786964, 46.807201192520445], [-121.59065618316012, 46.80523312246712], [-121.51722802917858, 46.57933916064711]]], \"type\": \"Polygon\"}, \"id\": \"1596058_1060619_2018-07-29_0f49\", \"properties\": {\"acquired\": \"2018-07-29T18:08:36.094812Z\", \"anomalous_pixels\": 0, \"black_fill\": 0.42, \"cloud_cover\": 0.003, \"columns\": 8000, \"epsg_code\": 32610, \"grid_cell\": \"1060619\", \"ground_control\": true, \"gsd\": 3.6, \"item_type\": \"PSOrthoTile\", \"origin_x\": 595500, \"origin_y\": 5184500, \"pixel_resolution\": 3.125, \"provider\": \"planetscope\", \"published\": \"2018-07-29T22:31:10Z\", \"rows\": 8000, \"satellite_id\": \"0f49\", \"strip_id\": \"1596058\", \"sun_azimuth\": 127.1, \"sun_elevation\": 52.1, \"updated\": \"2018-07-30T08:03:52Z\", \"usable_data\": 0.58, \"view_angle\": 0.1}, \"type\": \"Feature\"}, {\"_links\": {\"_self\": \"https://api.planet.com/data/v1/item-types/PSOrthoTile/items/1595937_1060619_2018-07-29_1018\", \"assets\": \"https://api.planet.com/data/v1/item-types/PSOrthoTile/items/1595937_1060619_2018-07-29_1018/assets/\", \"thumbnail\": \"https://tiles.planet.com/data/v1/item-types/PSOrthoTile/items/1595937_1060619_2018-07-29_1018/thumb\"}, \"_permissions\": [\"assets.analytic_xml:download\", \"assets.analytic_dn:download\", \"assets.analytic:download\", \"assets.visual:download\", \"assets.analytic_dn_xml:download\", \"assets.visual_xml:download\", \"assets.udm:download\"], \"geometry\": {\"coordinates\": [[[-121.655844591049, 46.5810500083203], [-121.75351991452176, 46.58225936807232], [-121.74832715786964, 46.807201192520445], [-121.57739534179233, 46.80508624868039], [-121.64382829466395, 46.61133487035448], [-121.65442838468933, 46.58113849897296], [-121.655844591049, 46.5810500083203]]], \"type\": \"Polygon\"}, \"id\": \"1595937_1060619_2018-07-29_1018\", \"properties\": {\"acquired\": \"2018-07-29T18:30:53.432743Z\", \"anomalous_pixels\": 0, \"black_fill\": 0.6, \"cloud_cover\": 0.001, \"columns\": 8000, \"epsg_code\": 32610, \"grid_cell\": \"1060619\", \"ground_control\": true, \"gsd\": 3.9, \"item_type\": \"PSOrthoTile\", \"origin_x\": 595500, \"origin_y\": 5184500, \"pixel_resolution\": 3.125, \"provider\": \"planetscope\", \"published\": \"2018-07-29T22:20:27Z\", \"rows\": 8000, \"satellite_id\": \"1018\", \"strip_id\": \"1595937\", \"sun_azimuth\": 134.6, \"sun_elevation\": 55, \"updated\": \"2018-07-30T07:22:15Z\", \"usable_data\": 0.4, \"view_angle\": 1.6}, \"type\": \"Feature\"}, {\"_links\": {\"_self\": \"https://api.planet.com/data/v1/item-types/PSOrthoTile/items/1592165_1060619_2018-07-27_0f06\", \"assets\": \"https://api.planet.com/data/v1/item-types/PSOrthoTile/items/1592165_1060619_2018-07-27_0f06/assets/\", \"thumbnail\": \"https://tiles.planet.com/data/v1/item-types/PSOrthoTile/items/1592165_1060619_2018-07-27_0f06/thumb\"}, \"_permissions\": [\"assets.analytic_xml:download\", \"assets.analytic_dn:download\", \"assets.analytic:download\", \"assets.visual:download\", \"assets.analytic_dn_xml:download\", \"assets.visual_xml:download\", \"assets.udm:download\"], \"geometry\": {\"coordinates\": [[[-121.75176038540823, 46.65963173904277], [-121.74832715786964, 46.807201192520445], [-121.69983281888712, 46.80661371646131], [-121.72626867093423, 46.73071667249507], [-121.75176038540823, 46.65963173904277]]], \"type\": \"Polygon\"}, \"id\": \"1592165_1060619_2018-07-27_0f06\", \"properties\": {\"acquired\": \"2018-07-27T21:39:03.405664Z\", \"anomalous_pixels\": 0, \"black_fill\": 0.95, \"cloud_cover\": 0, \"columns\": 8000, \"epsg_code\": 32610, \"grid_cell\": \"1060619\", \"ground_control\": true, \"gsd\": 4.1, \"item_type\": \"PSOrthoTile\", \"origin_x\": 595500, \"origin_y\": 5184500, \"pixel_resolution\": 3.125, \"provider\": \"planetscope\", \"published\": \"2018-07-28T02:38:31Z\", \"rows\": 8000, \"satellite_id\": \"0f06\", \"strip_id\": \"1592165\", \"sun_azimuth\": 219.3, \"sun_elevation\": 57.3, \"updated\": \"2018-07-28T02:38:31Z\", \"usable_data\": 0.05, \"view_angle\": 0.1}, \"type\": \"Feature\"}, {\"_links\": {\"_self\": \"https://api.planet.com/data/v1/item-types/PSOrthoTile/items/1591783_1060619_2018-07-27_1040\", \"assets\": \"https://api.planet.com/data/v1/item-types/PSOrthoTile/items/1591783_1060619_2018-07-27_1040/assets/\", \"thumbnail\": \"https://tiles.planet.com/data/v1/item-types/PSOrthoTile/items/1591783_1060619_2018-07-27_1040/thumb\"}, \"_permissions\": [\"assets.analytic_xml:download\", \"assets.analytic_dn:download\", \"assets.analytic:download\", \"assets.visual:download\", \"assets.analytic_dn_xml:download\", \"assets.visual_xml:download\", \"assets.udm:download\"], \"geometry\": {\"coordinates\": [[[-121.56786813537273, 46.57995861172882], [-121.75351991452176, 46.58228886431465], [-121.74832715786964, 46.807201192520445], [-121.48795976441217, 46.80396999479636], [-121.56786813537273, 46.57995861172882]]], \"type\": \"Polygon\"}, \"id\": \"1591783_1060619_2018-07-27_1040\", \"properties\": {\"acquired\": \"2018-07-27T18:30:56.317282Z\", \"anomalous_pixels\": 0, \"black_fill\": 0.34, \"cloud_cover\": 0, \"columns\": 8000, \"epsg_code\": 32610, \"grid_cell\": \"1060619\", \"ground_control\": true, \"gsd\": 3.9, \"item_type\": \"PSOrthoTile\", \"origin_x\": 595500, \"origin_y\": 5184500, \"pixel_resolution\": 3.125, \"provider\": \"planetscope\", \"published\": \"2018-07-27T22:28:44Z\", \"rows\": 8000, \"satellite_id\": \"1040\", \"strip_id\": \"1591783\", \"sun_azimuth\": 134.1, \"sun_elevation\": 55.4, \"updated\": \"2018-07-28T07:17:16Z\", \"usable_data\": 0.66, \"view_angle\": 0}, \"type\": \"Feature\"}, {\"_links\": {\"_self\": \"https://api.planet.com/data/v1/item-types/PSOrthoTile/items/1589654_1060619_2018-07-26_1039\", \"assets\": \"https://api.planet.com/data/v1/item-types/PSOrthoTile/items/1589654_1060619_2018-07-26_1039/assets/\", \"thumbnail\": \"https://tiles.planet.com/data/v1/item-types/PSOrthoTile/items/1589654_1060619_2018-07-26_1039/thumb\"}, \"_permissions\": [\"assets.analytic_xml:download\", \"assets.analytic_dn:download\", \"assets.analytic:download\", \"assets.visual:download\", \"assets.analytic_dn_xml:download\", \"assets.visual_xml:download\", \"assets.udm:download\"], \"geometry\": {\"coordinates\": [[[-121.730474374669, 46.581964404766524], [-121.75351991452176, 46.58225936807232], [-121.74832715786964, 46.807201192520445], [-121.65099515715075, 46.80599685969394], [-121.730474374669, 46.581964404766524]]], \"type\": \"Polygon\"}, \"id\": \"1589654_1060619_2018-07-26_1039\", \"properties\": {\"acquired\": \"2018-07-26T18:31:23.664515Z\", \"anomalous_pixels\": 0, \"black_fill\": 0.82, \"cloud_cover\": 0, \"columns\": 8000, \"epsg_code\": 32610, \"grid_cell\": \"1060619\", \"ground_control\": true, \"gsd\": 3.9, \"item_type\": \"PSOrthoTile\", \"origin_x\": 595500, \"origin_y\": 5184500, \"pixel_resolution\": 3.125, \"provider\": \"planetscope\", \"published\": \"2018-07-26T22:48:05Z\", \"rows\": 8000, \"satellite_id\": \"1039\", \"strip_id\": \"1589654\", \"sun_azimuth\": 133.9, \"sun_elevation\": 55.5, \"updated\": \"2018-07-27T06:53:32Z\", \"usable_data\": 0.18, \"view_angle\": 0.2}, \"type\": \"Feature\"}, {\"_links\": {\"_self\": \"https://api.planet.com/data/v1/item-types/PSOrthoTile/items/1588148_1060619_2018-07-25_104d\", \"assets\": \"https://api.planet.com/data/v1/item-types/PSOrthoTile/items/1588148_1060619_2018-07-25_104d/assets/\", \"thumbnail\": \"https://tiles.planet.com/data/v1/item-types/PSOrthoTile/items/1588148_1060619_2018-07-25_104d/thumb\"}, \"_permissions\": [\"assets.analytic_xml:download\", \"assets.analytic_dn:download\", \"assets.analytic:download\", \"assets.visual:download\", \"assets.analytic_dn_xml:download\", \"assets.visual_xml:download\", \"assets.udm:download\"], \"geometry\": {\"coordinates\": [[[-121.51491060059004, 46.579309662800036], [-121.75351991452176, 46.58228886431465], [-121.74832715786964, 46.807201192520445], [-121.58499135772145, 46.805174373000554], [-121.5143097857708, 46.58284928986965], [-121.51327981750923, 46.57933916064711], [-121.51491060059004, 46.579309662800036]]], \"type\": \"Polygon\"}, \"id\": \"1588148_1060619_2018-07-25_104d\", \"properties\": {\"acquired\": \"2018-07-25T18:09:25.771998Z\", \"anomalous_pixels\": 0, \"black_fill\": 0.4, \"cloud_cover\": 0, \"columns\": 8000, \"epsg_code\": 32610, \"grid_cell\": \"1060619\", \"ground_control\": true, \"gsd\": 3.6, \"item_type\": \"PSOrthoTile\", \"origin_x\": 595500, \"origin_y\": 5184500, \"pixel_resolution\": 3.125, \"provider\": \"planetscope\", \"published\": \"2018-07-26T02:30:58Z\", \"rows\": 8000, \"satellite_id\": \"104d\", \"strip_id\": \"1588148\", \"sun_azimuth\": 126.4, \"sun_elevation\": 52.9, \"updated\": \"2018-07-26T07:19:04Z\", \"usable_data\": 0.59, \"view_angle\": 0.2}, \"type\": \"Feature\"}, {\"_links\": {\"_self\": \"https://api.planet.com/data/v1/item-types/PSOrthoTile/items/1588057_1060619_2018-07-25_100c\", \"assets\": \"https://api.planet.com/data/v1/item-types/PSOrthoTile/items/1588057_1060619_2018-07-25_100c/assets/\", \"thumbnail\": \"https://tiles.planet.com/data/v1/item-types/PSOrthoTile/items/1588057_1060619_2018-07-25_100c/thumb\"}, \"_permissions\": [\"assets.analytic_xml:download\", \"assets.analytic_dn:download\", \"assets.analytic:download\", \"assets.visual:download\", \"assets.analytic_dn_xml:download\", \"assets.visual_xml:download\", \"assets.udm:download\"], \"geometry\": {\"coordinates\": [[[-121.75227536953902, 46.6349140777876], [-121.74837007321389, 46.807083697821895], [-121.69356717862921, 46.806525594499064], [-121.70296563901609, 46.77590916643306], [-121.75227536953902, 46.6349140777876]]], \"type\": \"Polygon\"}, \"id\": \"1588057_1060619_2018-07-25_100c\", \"properties\": {\"acquired\": \"2018-07-25T18:31:04.406511Z\", \"anomalous_pixels\": 0, \"black_fill\": 0.94, \"cloud_cover\": 0, \"columns\": 8000, \"epsg_code\": 32610, \"grid_cell\": \"1060619\", \"ground_control\": true, \"gsd\": 3.9, \"item_type\": \"PSOrthoTile\", \"origin_x\": 595500, \"origin_y\": 5184500, \"pixel_resolution\": 3.125, \"provider\": \"planetscope\", \"published\": \"2018-07-26T01:23:19Z\", \"rows\": 8000, \"satellite_id\": \"100c\", \"strip_id\": \"1588057\", \"sun_azimuth\": 133.6, \"sun_elevation\": 55.6, \"updated\": \"2018-07-26T06:32:07Z\", \"usable_data\": 0.06, \"view_angle\": 0.1}, \"type\": \"Feature\"}, {\"_links\": {\"_self\": \"https://api.planet.com/data/v1/item-types/PSOrthoTile/items/1585850_1060619_2018-07-24_1033\", \"assets\": \"https://api.planet.com/data/v1/item-types/PSOrthoTile/items/1585850_1060619_2018-07-24_1033/assets/\", \"thumbnail\": \"https://tiles.planet.com/data/v1/item-types/PSOrthoTile/items/1585850_1060619_2018-07-24_1033/thumb\"}, \"_permissions\": [\"assets.analytic_xml:download\", \"assets.analytic_dn:download\", \"assets.analytic:download\", \"assets.visual:download\", \"assets.analytic_dn_xml:download\", \"assets.visual_xml:download\", \"assets.udm:download\"], \"geometry\": {\"coordinates\": [[[-121.7065705279316, 46.581669439855965], [-121.75351991452176, 46.58231836054092], [-121.74832715786964, 46.807201192520445], [-121.6266192416268, 46.80570311588992], [-121.70532598294886, 46.581875915461865], [-121.7065705279316, 46.581669439855965]]], \"type\": \"Polygon\"}, \"id\": \"1585850_1060619_2018-07-24_1033\", \"properties\": {\"acquired\": \"2018-07-24T18:30:32.58656Z\", \"anomalous_pixels\": 0, \"black_fill\": 0.75, \"cloud_cover\": 0, \"columns\": 8000, \"epsg_code\": 32610, \"grid_cell\": \"1060619\", \"ground_control\": true, \"gsd\": 3.9, \"item_type\": \"PSOrthoTile\", \"origin_x\": 595500, \"origin_y\": 5184500, \"pixel_resolution\": 3.125, \"provider\": \"planetscope\", \"published\": \"2018-07-25T00:35:14Z\", \"rows\": 8000, \"satellite_id\": \"1033\", \"strip_id\": \"1585850\", \"sun_azimuth\": 133.4, \"sun_elevation\": 55.9, \"updated\": \"2018-07-25T12:16:18Z\", \"usable_data\": 0.25, \"view_angle\": 1.3}, \"type\": \"Feature\"}, {\"_links\": {\"_self\": \"https://api.planet.com/data/v1/item-types/PSOrthoTile/items/1583967_1060619_2018-07-23_1052\", \"assets\": \"https://api.planet.com/data/v1/item-types/PSOrthoTile/items/1583967_1060619_2018-07-23_1052/assets/\", \"thumbnail\": \"https://tiles.planet.com/data/v1/item-types/PSOrthoTile/items/1583967_1060619_2018-07-23_1052/thumb\"}, \"_permissions\": [\"assets.analytic_xml:download\", \"assets.analytic_dn:download\", \"assets.analytic:download\", \"assets.visual:download\", \"assets.analytic_dn_xml:download\", \"assets.visual_xml:download\", \"assets.udm:download\"], \"geometry\": {\"coordinates\": [[[-121.59142865935627, 46.580253585947], [-121.75351991452176, 46.58228886431465], [-121.7482842425254, 46.807201192520445], [-121.66138067045497, 46.806084982522364], [-121.59117116729088, 46.589161051303364], [-121.58855333129273, 46.580253585947], [-121.59142865935627, 46.580253585947]]], \"type\": \"Polygon\"}, \"id\": \"1583967_1060619_2018-07-23_1052\", \"properties\": {\"acquired\": \"2018-07-23T18:09:50.690178Z\", \"anomalous_pixels\": 0, \"black_fill\": 0.63, \"cloud_cover\": 0, \"columns\": 8000, \"epsg_code\": 32610, \"grid_cell\": \"1060619\", \"ground_control\": true, \"gsd\": 3.6, \"item_type\": \"PSOrthoTile\", \"origin_x\": 595500, \"origin_y\": 5184500, \"pixel_resolution\": 3.125, \"provider\": \"planetscope\", \"published\": \"2018-07-24T02:31:08Z\", \"rows\": 8000, \"satellite_id\": \"1052\", \"strip_id\": \"1583967\", \"sun_azimuth\": 126.1, \"sun_elevation\": 53.3, \"updated\": \"2018-07-24T07:24:35Z\", \"usable_data\": 0.37, \"view_angle\": 0.1}, \"type\": \"Feature\"}, {\"_links\": {\"_self\": \"https://api.planet.com/data/v1/item-types/PSOrthoTile/items/1583636_1060619_2018-07-23_0e3a\", \"assets\": \"https://api.planet.com/data/v1/item-types/PSOrthoTile/items/1583636_1060619_2018-07-23_0e3a/assets/\", \"thumbnail\": \"https://tiles.planet.com/data/v1/item-types/PSOrthoTile/items/1583636_1060619_2018-07-23_0e3a/thumb\"}, \"_permissions\": [\"assets.analytic_xml:download\", \"assets.analytic_dn:download\", \"assets.analytic:download\", \"assets.visual:download\", \"assets.analytic_dn_xml:download\", \"assets.visual_xml:download\", \"assets.udm:download\"], \"geometry\": {\"coordinates\": [[[-121.61250009337436, 46.58051906137129], [-121.75351991452176, 46.58225936807232], [-121.74832715786964, 46.807201192520445], [-121.53272046844646, 46.80452812463363], [-121.61065473357235, 46.58069604426534], [-121.61250009337436, 46.58051906137129]]], \"type\": \"Polygon\"}, \"id\": \"1583636_1060619_2018-07-23_0e3a\", \"properties\": {\"acquired\": \"2018-07-23T18:29:16.215273Z\", \"anomalous_pixels\": 0, \"black_fill\": 0.47, \"cloud_cover\": 0, \"columns\": 8000, \"epsg_code\": 32610, \"grid_cell\": \"1060619\", \"ground_control\": true, \"gsd\": 3.8, \"item_type\": \"PSOrthoTile\", \"origin_x\": 595500, \"origin_y\": 5184500, \"pixel_resolution\": 3.125, \"provider\": \"planetscope\", \"published\": \"2018-07-23T22:28:12Z\", \"rows\": 8000, \"satellite_id\": \"0e3a\", \"strip_id\": \"1583636\", \"sun_azimuth\": 132.8, \"sun_elevation\": 55.9, \"updated\": \"2018-07-24T07:25:14Z\", \"usable_data\": 0.52, \"view_angle\": 1.2}, \"type\": \"Feature\"}, {\"_links\": {\"_self\": \"https://api.planet.com/data/v1/item-types/PSOrthoTile/items/1581579_1060619_2018-07-21_101f\", \"assets\": \"https://api.planet.com/data/v1/item-types/PSOrthoTile/items/1581579_1060619_2018-07-21_101f/assets/\", \"thumbnail\": \"https://tiles.planet.com/data/v1/item-types/PSOrthoTile/items/1581579_1060619_2018-07-21_101f/thumb\"}, \"_permissions\": [\"assets.analytic_xml:download\", \"assets.analytic_dn:download\", \"assets.analytic:download\", \"assets.visual:download\", \"assets.analytic_dn_xml:download\", \"assets.visual_xml:download\", \"assets.udm:download\"], \"geometry\": {\"coordinates\": [[[-121.45770444672837, 46.578601709655764], [-121.75351991452176, 46.58228886431465], [-121.75008668698315, 46.73180503066409], [-121.72433748044378, 46.80690745529289], [-121.42079725068857, 46.80314747711326], [-121.4245308856368, 46.67382676521771], [-121.45770444672837, 46.578601709655764]]], \"type\": \"Polygon\"}, \"id\": \"1581579_1060619_2018-07-21_101f\", \"properties\": {\"acquired\": \"2018-07-21T18:29:53.250707Z\", \"anomalous_pixels\": 0.03, \"black_fill\": 0.07, \"cloud_cover\": 0.021, \"columns\": 8000, \"epsg_code\": 32610, \"grid_cell\": \"1060619\", \"ground_control\": true, \"gsd\": 3.9, \"item_type\": \"PSOrthoTile\", \"origin_x\": 595500, \"origin_y\": 5184500, \"pixel_resolution\": 3.125, \"provider\": \"planetscope\", \"published\": \"2018-07-23T02:17:32Z\", \"rows\": 8000, \"satellite_id\": \"101f\", \"strip_id\": \"1581579\", \"sun_azimuth\": 132.7, \"sun_elevation\": 56.4, \"updated\": \"2018-07-23T02:17:32Z\", \"usable_data\": 0.9, \"view_angle\": 0.1}, \"type\": \"Feature\"}, {\"_links\": {\"_self\": \"https://api.planet.com/data/v1/item-types/PSOrthoTile/items/1581603_1060619_2018-07-22_0f4e\", \"assets\": \"https://api.planet.com/data/v1/item-types/PSOrthoTile/items/1581603_1060619_2018-07-22_0f4e/assets/\", \"thumbnail\": \"https://tiles.planet.com/data/v1/item-types/PSOrthoTile/items/1581603_1060619_2018-07-22_0f4e/thumb\"}, \"_permissions\": [\"assets.analytic_xml:download\", \"assets.analytic_dn:download\", \"assets.analytic:download\", \"assets.visual:download\", \"assets.analytic_dn_xml:download\", \"assets.visual_xml:download\", \"assets.udm:download\"], \"geometry\": {\"coordinates\": [[[-121.60155668059512, 46.58037157518494], [-121.75351991452176, 46.58225936807232], [-121.74832715786964, 46.807201192520445], [-121.52855768005594, 46.80446937439713], [-121.60155668059512, 46.58037157518494]]], \"type\": \"Polygon\"}, \"id\": \"1581603_1060619_2018-07-22_0f4e\", \"properties\": {\"acquired\": \"2018-07-22T18:31:29.085767Z\", \"anomalous_pixels\": 0, \"black_fill\": 0.45, \"cloud_cover\": 0, \"columns\": 8000, \"epsg_code\": 32610, \"grid_cell\": \"1060619\", \"ground_control\": true, \"gsd\": 3.9, \"item_type\": \"PSOrthoTile\", \"origin_x\": 595500, \"origin_y\": 5184500, \"pixel_resolution\": 3.125, \"provider\": \"planetscope\", \"published\": \"2018-07-22T22:39:53Z\", \"rows\": 8000, \"satellite_id\": \"0f4e\", \"strip_id\": \"1581603\", \"sun_azimuth\": 133.5, \"sun_elevation\": 56.3, \"updated\": \"2018-07-23T06:54:01Z\", \"usable_data\": 0.55, \"view_angle\": 1.6}, \"type\": \"Feature\"}, {\"_links\": {\"_self\": \"https://api.planet.com/data/v1/item-types/PSOrthoTile/items/1579873_1060619_2018-07-21_1043\", \"assets\": \"https://api.planet.com/data/v1/item-types/PSOrthoTile/items/1579873_1060619_2018-07-21_1043/assets/\", \"thumbnail\": \"https://tiles.planet.com/data/v1/item-types/PSOrthoTile/items/1579873_1060619_2018-07-21_1043/thumb\"}, \"_permissions\": [\"assets.analytic_xml:download\", \"assets.analytic_dn:download\", \"assets.analytic:download\", \"assets.visual:download\", \"assets.analytic_dn_xml:download\", \"assets.visual_xml:download\", \"assets.udm:download\"], \"geometry\": {\"coordinates\": [[[-121.45173921388009, 46.57854271314317], [-121.75351991452176, 46.58228886431465], [-121.74837007321389, 46.80717181886987], [-121.52336492340382, 46.80438124892208], [-121.46070852082462, 46.610155640402546], [-121.45079507630696, 46.5786902043043], [-121.45173921388009, 46.57854271314317]]], \"type\": \"Polygon\"}, \"id\": \"1579873_1060619_2018-07-21_1043\", \"properties\": {\"acquired\": \"2018-07-21T18:09:18.221064Z\", \"anomalous_pixels\": 0.01, \"black_fill\": 0.22, \"cloud_cover\": 0.008, \"columns\": 8000, \"epsg_code\": 32610, \"grid_cell\": \"1060619\", \"ground_control\": true, \"gsd\": 3.6, \"item_type\": \"PSOrthoTile\", \"origin_x\": 595500, \"origin_y\": 5184500, \"pixel_resolution\": 3.125, \"provider\": \"planetscope\", \"published\": \"2018-07-22T02:29:29Z\", \"rows\": 8000, \"satellite_id\": \"1043\", \"strip_id\": \"1579873\", \"sun_azimuth\": 125.7, \"sun_elevation\": 53.6, \"updated\": \"2018-07-22T07:31:37Z\", \"usable_data\": 0.77, \"view_angle\": 0.1}, \"type\": \"Feature\"}, {\"_links\": {\"_self\": \"https://api.planet.com/data/v1/item-types/PSOrthoTile/items/1579515_1060619_2018-07-21_1003\", \"assets\": \"https://api.planet.com/data/v1/item-types/PSOrthoTile/items/1579515_1060619_2018-07-21_1003/assets/\", \"thumbnail\": \"https://tiles.planet.com/data/v1/item-types/PSOrthoTile/items/1579515_1060619_2018-07-21_1003/thumb\"}, \"_permissions\": [\"assets.analytic_xml:download\", \"assets.analytic_dn:download\", \"assets.analytic:download\", \"assets.visual:download\", \"assets.analytic_dn_xml:download\", \"assets.visual_xml:download\", \"assets.udm:download\"], \"geometry\": {\"coordinates\": [[[-121.7445506075772, 46.58214138294258], [-121.75351991452176, 46.58228886431465], [-121.74832715786964, 46.807201192520445], [-121.66335477628965, 46.80614373099444], [-121.72935857571896, 46.61776122232931], [-121.74236192502136, 46.58214138294258], [-121.7445506075772, 46.58214138294258]]], \"type\": \"Polygon\"}, \"id\": \"1579515_1060619_2018-07-21_1003\", \"properties\": {\"acquired\": \"2018-07-21T18:30:50.374073Z\", \"anomalous_pixels\": 0.01, \"black_fill\": 0.86, \"cloud_cover\": 0.013, \"columns\": 8000, \"epsg_code\": 32610, \"grid_cell\": \"1060619\", \"ground_control\": true, \"gsd\": 3.9, \"item_type\": \"PSOrthoTile\", \"origin_x\": 595500, \"origin_y\": 5184500, \"pixel_resolution\": 3.125, \"provider\": \"planetscope\", \"published\": \"2018-07-21T22:36:12Z\", \"rows\": 8000, \"satellite_id\": \"1003\", \"strip_id\": \"1579515\", \"sun_azimuth\": 132.7, \"sun_elevation\": 56.3, \"updated\": \"2018-07-22T06:38:12Z\", \"usable_data\": 0.13, \"view_angle\": 0.1}, \"type\": \"Feature\"}, {\"_links\": {\"_self\": \"https://api.planet.com/data/v1/item-types/PSOrthoTile/items/1577610_1060619_2018-07-20_1051\", \"assets\": \"https://api.planet.com/data/v1/item-types/PSOrthoTile/items/1577610_1060619_2018-07-20_1051/assets/\", \"thumbnail\": \"https://tiles.planet.com/data/v1/item-types/PSOrthoTile/items/1577610_1060619_2018-07-20_1051/thumb\"}, \"_permissions\": [\"assets.analytic_xml:download\", \"assets.analytic_dn:download\", \"assets.analytic:download\", \"assets.visual:download\", \"assets.analytic_dn_xml:download\", \"assets.visual_xml:download\", \"assets.udm:download\"], \"geometry\": {\"coordinates\": [[[-121.42847909730617, 46.578247729617324], [-121.68399705686541, 46.5814334667721], [-121.74901380337737, 46.777907698705555], [-121.74832715786964, 46.807201192520445], [-121.44101037782201, 46.803411859168556], [-121.42238511842517, 46.748627665458265], [-121.42727746766766, 46.57898518542299], [-121.42847909730617, 46.578247729617324]]], \"type\": \"Polygon\"}, \"id\": \"1577610_1060619_2018-07-20_1051\", \"properties\": {\"acquired\": \"2018-07-20T18:09:24.136704Z\", \"anomalous_pixels\": 0.11, \"black_fill\": 0.13, \"cloud_cover\": 0.105, \"columns\": 8000, \"epsg_code\": 32610, \"grid_cell\": \"1060619\", \"ground_control\": true, \"gsd\": 3.6, \"item_type\": \"PSOrthoTile\", \"origin_x\": 595500, \"origin_y\": 5184500, \"pixel_resolution\": 3.125, \"provider\": \"planetscope\", \"published\": \"2018-07-21T02:28:56Z\", \"rows\": 8000, \"satellite_id\": \"1051\", \"strip_id\": \"1577610\", \"sun_azimuth\": 125.7, \"sun_elevation\": 53.8, \"updated\": \"2018-07-21T07:33:58Z\", \"usable_data\": 0.76, \"view_angle\": 0.1}, \"type\": \"Feature\"}, {\"_links\": {\"_self\": \"https://api.planet.com/data/v1/item-types/PSOrthoTile/items/1575928_1060619_2018-07-19_0f40\", \"assets\": \"https://api.planet.com/data/v1/item-types/PSOrthoTile/items/1575928_1060619_2018-07-19_0f40/assets/\", \"thumbnail\": \"https://tiles.planet.com/data/v1/item-types/PSOrthoTile/items/1575928_1060619_2018-07-19_0f40/thumb\"}, \"_permissions\": [\"assets.analytic_xml:download\", \"assets.analytic_dn:download\", \"assets.analytic:download\", \"assets.visual:download\", \"assets.analytic_dn_xml:download\", \"assets.visual_xml:download\", \"assets.udm:download\"], \"geometry\": {\"coordinates\": [[[-121.62490262785748, 46.580666547156454], [-121.75351991452176, 46.58228886431465], [-121.74862756527926, 46.79342319004277], [-121.69399633207155, 46.80161991090943], [-121.62279977599012, 46.58069604426534], [-121.62490262785748, 46.580666547156454]]], \"type\": \"Polygon\"}, \"id\": \"1575928_1060619_2018-07-19_0f40\", \"properties\": {\"acquired\": \"2018-07-19T18:10:42.641616Z\", \"anomalous_pixels\": 0.17, \"black_fill\": 0.74, \"cloud_cover\": 0.173, \"columns\": 8000, \"epsg_code\": 32610, \"grid_cell\": \"1060619\", \"ground_control\": true, \"gsd\": 3.6, \"item_type\": \"PSOrthoTile\", \"origin_x\": 595500, \"origin_y\": 5184500, \"pixel_resolution\": 3.125, \"provider\": \"planetscope\", \"published\": \"2018-07-20T06:10:01Z\", \"rows\": 8000, \"satellite_id\": \"0f40\", \"strip_id\": \"1575928\", \"sun_azimuth\": 125.6, \"sun_elevation\": 54.1, \"updated\": \"2018-07-20T06:10:01Z\", \"usable_data\": 0.09, \"view_angle\": 0.1}, \"type\": \"Feature\"}, {\"_links\": {\"_self\": \"https://api.planet.com/data/v1/item-types/PSOrthoTile/items/1573403_1060619_2018-07-18_101e\", \"assets\": \"https://api.planet.com/data/v1/item-types/PSOrthoTile/items/1573403_1060619_2018-07-18_101e/assets/\", \"thumbnail\": \"https://tiles.planet.com/data/v1/item-types/PSOrthoTile/items/1573403_1060619_2018-07-18_101e/thumb\"}, \"_permissions\": [\"assets.analytic_xml:download\", \"assets.analytic_dn:download\", \"assets.analytic:download\", \"assets.visual:download\", \"assets.analytic_dn_xml:download\", \"assets.visual_xml:download\", \"assets.udm:download\"], \"geometry\": {\"coordinates\": [[[-121.69258012571186, 46.58149246013935], [-121.75351991452176, 46.58228886431465], [-121.74832715786964, 46.80717181886987], [-121.61365880766863, 46.8055562433864], [-121.68940439023868, 46.58202339755607], [-121.69258012571186, 46.58149246013935]]], \"type\": \"Polygon\"}, \"id\": \"1573403_1060619_2018-07-18_101e\", \"properties\": {\"acquired\": \"2018-07-18T18:31:00.550415Z\", \"anomalous_pixels\": 0.02, \"black_fill\": 0.71, \"cloud_cover\": 0.018, \"columns\": 8000, \"epsg_code\": 32610, \"grid_cell\": \"1060619\", \"ground_control\": true, \"gsd\": 3.9, \"item_type\": \"PSOrthoTile\", \"origin_x\": 595500, \"origin_y\": 5184500, \"pixel_resolution\": 3.125, \"provider\": \"planetscope\", \"published\": \"2018-07-18T22:47:27Z\", \"rows\": 8000, \"satellite_id\": \"101e\", \"strip_id\": \"1573403\", \"sun_azimuth\": 132.4, \"sun_elevation\": 56.9, \"updated\": \"2018-07-19T07:06:36Z\", \"usable_data\": 0.27, \"view_angle\": 0.1}, \"type\": \"Feature\"}, {\"_links\": {\"_self\": \"https://api.planet.com/data/v1/item-types/PSOrthoTile/items/1571216_1060619_2018-07-17_0e20\", \"assets\": \"https://api.planet.com/data/v1/item-types/PSOrthoTile/items/1571216_1060619_2018-07-17_0e20/assets/\", \"thumbnail\": \"https://tiles.planet.com/data/v1/item-types/PSOrthoTile/items/1571216_1060619_2018-07-17_0e20/thumb\"}, \"_permissions\": [\"assets.analytic_xml:download\", \"assets.analytic_dn:download\", \"assets.analytic:download\", \"assets.visual:download\", \"assets.analytic_dn_xml:download\", \"assets.visual_xml:download\", \"assets.udm:download\"], \"geometry\": {\"coordinates\": [[[-121.5306605319233, 46.5795161473926], [-121.75351991452176, 46.58225936807232], [-121.74832715786964, 46.807201192520445], [-121.4496363620127, 46.80349998623159], [-121.52937307159635, 46.579634138235306], [-121.5306605319233, 46.5795161473926]]], \"type\": \"Polygon\"}, \"id\": \"1571216_1060619_2018-07-17_0e20\", \"properties\": {\"acquired\": \"2018-07-17T18:30:07.482674Z\", \"anomalous_pixels\": 0.01, \"black_fill\": 0.23, \"cloud_cover\": 0.002, \"columns\": 8000, \"epsg_code\": 32610, \"grid_cell\": \"1060619\", \"ground_control\": true, \"gsd\": 3.8, \"item_type\": \"PSOrthoTile\", \"origin_x\": 595500, \"origin_y\": 5184500, \"pixel_resolution\": 3.125, \"provider\": \"planetscope\", \"published\": \"2018-07-17T22:35:26Z\", \"rows\": 8000, \"satellite_id\": \"0e20\", \"strip_id\": \"1571216\", \"sun_azimuth\": 131.6, \"sun_elevation\": 56.8, \"updated\": \"2018-07-18T10:48:58Z\", \"usable_data\": 0.76, \"view_angle\": 3.3}, \"type\": \"Feature\"}, {\"_links\": {\"_self\": \"https://api.planet.com/data/v1/item-types/PSOrthoTile/items/1569565_1060619_2018-07-16_0f3b\", \"assets\": \"https://api.planet.com/data/v1/item-types/PSOrthoTile/items/1569565_1060619_2018-07-16_0f3b/assets/\", \"thumbnail\": \"https://tiles.planet.com/data/v1/item-types/PSOrthoTile/items/1569565_1060619_2018-07-16_0f3b/thumb\"}, \"_permissions\": [\"assets.analytic_xml:download\", \"assets.analytic_dn:download\", \"assets.analytic:download\", \"assets.visual:download\", \"assets.analytic_dn_xml:download\", \"assets.visual_xml:download\", \"assets.udm:download\"], \"geometry\": {\"coordinates\": [[[-121.42843618196193, 46.578247729617324], [-121.69116391935218, 46.58152195679891], [-121.74940004147545, 46.761182399564504], [-121.74832715786964, 46.807201192520445], [-121.44392862122979, 46.803411859168556], [-121.42272844117903, 46.73615824371557], [-121.42727746766766, 46.579309662800036], [-121.42843618196193, 46.578247729617324]]], \"type\": \"Polygon\"}, \"id\": \"1569565_1060619_2018-07-16_0f3b\", \"properties\": {\"acquired\": \"2018-07-16T18:10:13.238971Z\", \"anomalous_pixels\": 0, \"black_fill\": 0.12, \"cloud_cover\": 0.001, \"columns\": 8000, \"epsg_code\": 32610, \"grid_cell\": \"1060619\", \"ground_control\": true, \"gsd\": 3.6, \"item_type\": \"PSOrthoTile\", \"origin_x\": 595500, \"origin_y\": 5184500, \"pixel_resolution\": 3.125, \"provider\": \"planetscope\", \"published\": \"2018-07-17T02:27:39Z\", \"rows\": 8000, \"satellite_id\": \"0f3b\", \"strip_id\": \"1569565\", \"sun_azimuth\": 125.3, \"sun_elevation\": 54.6, \"updated\": \"2018-07-17T07:32:12Z\", \"usable_data\": 0.88, \"view_angle\": 0.1}, \"type\": \"Feature\"}, {\"_links\": {\"_self\": \"https://api.planet.com/data/v1/item-types/PSOrthoTile/items/1567358_1060619_2018-07-15_0f4b\", \"assets\": \"https://api.planet.com/data/v1/item-types/PSOrthoTile/items/1567358_1060619_2018-07-15_0f4b/assets/\", \"thumbnail\": \"https://tiles.planet.com/data/v1/item-types/PSOrthoTile/items/1567358_1060619_2018-07-15_0f4b/thumb\"}, \"_permissions\": [\"assets.analytic_xml:download\", \"assets.analytic_dn:download\", \"assets.analytic:download\", \"assets.visual:download\", \"assets.analytic_dn_xml:download\", \"assets.visual_xml:download\", \"assets.udm:download\"], \"geometry\": {\"coordinates\": [[[-121.49315252106426, 46.579044181454144], [-121.75351991452176, 46.58225936807232], [-121.74832715786964, 46.807201192520445], [-121.56400575439181, 46.80488062470528], [-121.53310670654456, 46.70953343878835], [-121.49315252106426, 46.579044181454144]]], \"type\": \"Polygon\"}, \"id\": \"1567358_1060619_2018-07-15_0f4b\", \"properties\": {\"acquired\": \"2018-07-15T18:10:30.94027Z\", \"anomalous_pixels\": 0.01, \"black_fill\": 0.34, \"cloud_cover\": 0.001, \"columns\": 8000, \"epsg_code\": 32610, \"grid_cell\": \"1060619\", \"ground_control\": true, \"gsd\": 3.6, \"item_type\": \"PSOrthoTile\", \"origin_x\": 595500, \"origin_y\": 5184500, \"pixel_resolution\": 3.125, \"provider\": \"planetscope\", \"published\": \"2018-07-16T02:36:07Z\", \"rows\": 8000, \"satellite_id\": \"0f4b\", \"strip_id\": \"1567358\", \"sun_azimuth\": 125.1, \"sun_elevation\": 54.7, \"updated\": \"2018-07-16T09:01:46Z\", \"usable_data\": 0.65, \"view_angle\": 0.1}, \"type\": \"Feature\"}, {\"_links\": {\"_self\": \"https://api.planet.com/data/v1/item-types/PSOrthoTile/items/1567005_1060619_2018-07-15_0f43\", \"assets\": \"https://api.planet.com/data/v1/item-types/PSOrthoTile/items/1567005_1060619_2018-07-15_0f43/assets/\", \"thumbnail\": \"https://tiles.planet.com/data/v1/item-types/PSOrthoTile/items/1567005_1060619_2018-07-15_0f43/thumb\"}, \"_permissions\": [\"assets.analytic_xml:download\", \"assets.analytic_dn:download\", \"assets.analytic:download\", \"assets.visual:download\", \"assets.analytic_dn_xml:download\", \"assets.visual_xml:download\", \"assets.udm:download\"], \"geometry\": {\"coordinates\": [[[-121.56430616180145, 46.579929114218736], [-121.75351991452176, 46.58228886431465], [-121.7482842425254, 46.807201192520445], [-121.4869727114948, 46.80396999479636], [-121.56430616180145, 46.579929114218736]]], \"type\": \"Polygon\"}, \"id\": \"1567005_1060619_2018-07-15_0f43\", \"properties\": {\"acquired\": \"2018-07-15T18:31:02.677371Z\", \"anomalous_pixels\": 0.01, \"black_fill\": 0.34, \"cloud_cover\": 0.001, \"columns\": 8000, \"epsg_code\": 32610, \"grid_cell\": \"1060619\", \"ground_control\": true, \"gsd\": 3.9, \"item_type\": \"PSOrthoTile\", \"origin_x\": 595500, \"origin_y\": 5184500, \"pixel_resolution\": 3.125, \"provider\": \"planetscope\", \"published\": \"2018-07-15T22:18:52Z\", \"rows\": 8000, \"satellite_id\": \"0f43\", \"strip_id\": \"1567005\", \"sun_azimuth\": 132, \"sun_elevation\": 57.4, \"updated\": \"2018-07-16T07:56:55Z\", \"usable_data\": 0.66, \"view_angle\": 0}, \"type\": \"Feature\"}, {\"_links\": {\"_self\": \"https://api.planet.com/data/v1/item-types/PSOrthoTile/items/1564918_1060619_2018-07-14_1038\", \"assets\": \"https://api.planet.com/data/v1/item-types/PSOrthoTile/items/1564918_1060619_2018-07-14_1038/assets/\", \"thumbnail\": \"https://tiles.planet.com/data/v1/item-types/PSOrthoTile/items/1564918_1060619_2018-07-14_1038/thumb\"}, \"_permissions\": [\"assets.analytic_xml:download\", \"assets.analytic_dn:download\", \"assets.analytic:download\", \"assets.visual:download\", \"assets.analytic_dn_xml:download\", \"assets.visual_xml:download\", \"assets.udm:download\"], \"geometry\": {\"coordinates\": [[[-121.65314092436235, 46.58102051140398], [-121.75351991452176, 46.58225936807232], [-121.74832715786964, 46.807201192520445], [-121.57297506133638, 46.805027499053416], [-121.6503514269872, 46.58609374501497], [-121.65314092436235, 46.58102051140398]]], \"type\": \"Polygon\"}, \"id\": \"1564918_1060619_2018-07-14_1038\", \"properties\": {\"acquired\": \"2018-07-14T18:30:49.126071Z\", \"anomalous_pixels\": 0, \"black_fill\": 0.59, \"cloud_cover\": 0, \"columns\": 8000, \"epsg_code\": 32610, \"grid_cell\": \"1060619\", \"ground_control\": true, \"gsd\": 3.9, \"item_type\": \"PSOrthoTile\", \"origin_x\": 595500, \"origin_y\": 5184500, \"pixel_resolution\": 3.125, \"provider\": \"planetscope\", \"published\": \"2018-07-14T22:21:35Z\", \"rows\": 8000, \"satellite_id\": \"1038\", \"strip_id\": \"1564918\", \"sun_azimuth\": 131.8, \"sun_elevation\": 57.5, \"updated\": \"2018-07-15T08:25:33Z\", \"usable_data\": 0.41, \"view_angle\": 0.1}, \"type\": \"Feature\"}, {\"_links\": {\"_self\": \"https://api.planet.com/data/v1/item-types/PSOrthoTile/items/1562763_1060619_2018-07-13_1025\", \"assets\": \"https://api.planet.com/data/v1/item-types/PSOrthoTile/items/1562763_1060619_2018-07-13_1025/assets/\", \"thumbnail\": \"https://tiles.planet.com/data/v1/item-types/PSOrthoTile/items/1562763_1060619_2018-07-13_1025/thumb\"}, \"_permissions\": [\"assets.analytic_xml:download\", \"assets.analytic_dn:download\", \"assets.analytic:download\", \"assets.visual:download\", \"assets.analytic_dn_xml:download\", \"assets.visual_xml:download\", \"assets.udm:download\"], \"geometry\": {\"coordinates\": [[[-121.73764123715578, 46.58205289392677], [-121.75351991452176, 46.58228886431465], [-121.74837007321389, 46.807083697821895], [-121.65807618894908, 46.806084982522364], [-121.73764123715578, 46.58205289392677]]], \"type\": \"Polygon\"}, \"id\": \"1562763_1060619_2018-07-13_1025\", \"properties\": {\"acquired\": \"2018-07-13T18:30:21.090075Z\", \"anomalous_pixels\": 0, \"black_fill\": 0.84, \"cloud_cover\": 0, \"columns\": 8000, \"epsg_code\": 32610, \"grid_cell\": \"1060619\", \"ground_control\": true, \"gsd\": 3.9, \"item_type\": \"PSOrthoTile\", \"origin_x\": 595500, \"origin_y\": 5184500, \"pixel_resolution\": 3.125, \"provider\": \"planetscope\", \"published\": \"2018-07-13T22:34:51Z\", \"rows\": 8000, \"satellite_id\": \"1025\", \"strip_id\": \"1562763\", \"sun_azimuth\": 131.4, \"sun_elevation\": 57.5, \"updated\": \"2018-07-14T08:43:27Z\", \"usable_data\": 0.16, \"view_angle\": 0.1}, \"type\": \"Feature\"}, {\"_links\": {\"_self\": \"https://api.planet.com/data/v1/item-types/PSOrthoTile/items/1561170_1060619_2018-07-12_0f2d\", \"assets\": \"https://api.planet.com/data/v1/item-types/PSOrthoTile/items/1561170_1060619_2018-07-12_0f2d/assets/\", \"thumbnail\": \"https://tiles.planet.com/data/v1/item-types/PSOrthoTile/items/1561170_1060619_2018-07-12_0f2d/thumb\"}, \"_permissions\": [\"assets.analytic_xml:download\", \"assets.analytic_dn:download\", \"assets.analytic:download\", \"assets.visual:download\", \"assets.analytic_dn_xml:download\", \"assets.visual_xml:download\", \"assets.udm:download\"], \"geometry\": {\"coordinates\": [[[-121.58898248473504, 46.58022408859739], [-121.75351991452176, 46.58228886431465], [-121.74824132718119, 46.807201192520445], [-121.65923490324334, 46.806084982522364], [-121.58936872283311, 46.58762741985529], [-121.58713712493305, 46.58037157518494], [-121.58898248473504, 46.58022408859739]]], \"type\": \"Polygon\"}, \"id\": \"1561170_1060619_2018-07-12_0f2d\", \"properties\": {\"acquired\": \"2018-07-12T18:11:20.38194Z\", \"anomalous_pixels\": 0, \"black_fill\": 0.62, \"cloud_cover\": 0, \"columns\": 8000, \"epsg_code\": 32610, \"grid_cell\": \"1060619\", \"ground_control\": true, \"gsd\": 3.5, \"item_type\": \"PSOrthoTile\", \"origin_x\": 595500, \"origin_y\": 5184500, \"pixel_resolution\": 3.125, \"provider\": \"planetscope\", \"published\": \"2018-07-13T02:40:22Z\", \"rows\": 8000, \"satellite_id\": \"0f2d\", \"strip_id\": \"1561170\", \"sun_azimuth\": 124.8, \"sun_elevation\": 55.2, \"updated\": \"2018-07-13T08:08:42Z\", \"usable_data\": 0.38, \"view_angle\": 0}, \"type\": \"Feature\"}, {\"_links\": {\"_self\": \"https://api.planet.com/data/v1/item-types/PSOrthoTile/items/1560547_1060619_2018-07-12_0e0f\", \"assets\": \"https://api.planet.com/data/v1/item-types/PSOrthoTile/items/1560547_1060619_2018-07-12_0e0f/assets/\", \"thumbnail\": \"https://tiles.planet.com/data/v1/item-types/PSOrthoTile/items/1560547_1060619_2018-07-12_0e0f/thumb\"}, \"_permissions\": [\"assets.analytic_xml:download\", \"assets.analytic_dn:download\", \"assets.analytic:download\", \"assets.visual:download\", \"assets.analytic_dn_xml:download\", \"assets.visual_xml:download\", \"assets.udm:download\"], \"geometry\": {\"coordinates\": [[[-121.48066415589267, 46.57889669125588], [-121.75351991452176, 46.58231836054092], [-121.74884214200043, 46.78584231547972], [-121.74197568692328, 46.8071130715206], [-121.42079725068857, 46.80311810124913], [-121.42229928773669, 46.75003911638129], [-121.42435922425985, 46.741628675317], [-121.48066415589267, 46.57889669125588]]], \"type\": \"Polygon\"}, \"id\": \"1560547_1060619_2018-07-12_0e0f\", \"properties\": {\"acquired\": \"2018-07-12T18:28:51.523356Z\", \"anomalous_pixels\": 0.01, \"black_fill\": 0.09, \"cloud_cover\": 0.001, \"columns\": 8000, \"epsg_code\": 32610, \"grid_cell\": \"1060619\", \"ground_control\": true, \"gsd\": 3.8, \"item_type\": \"PSOrthoTile\", \"origin_x\": 595500, \"origin_y\": 5184500, \"pixel_resolution\": 3.125, \"provider\": \"planetscope\", \"published\": \"2018-07-12T22:22:51Z\", \"rows\": 8000, \"satellite_id\": \"0e0f\", \"strip_id\": \"1560547\", \"sun_azimuth\": 131, \"sun_elevation\": 57.6, \"updated\": \"2018-07-13T08:36:05Z\", \"usable_data\": 0.89, \"view_angle\": 0.1}, \"type\": \"Feature\"}, {\"_links\": {\"_self\": \"https://api.planet.com/data/v1/item-types/PSOrthoTile/items/1558372_1060619_2018-07-11_103d\", \"assets\": \"https://api.planet.com/data/v1/item-types/PSOrthoTile/items/1558372_1060619_2018-07-11_103d/assets/\", \"thumbnail\": \"https://tiles.planet.com/data/v1/item-types/PSOrthoTile/items/1558372_1060619_2018-07-11_103d/thumb\"}, \"_permissions\": [\"assets.analytic_xml:download\", \"assets.analytic_dn:download\", \"assets.analytic:download\", \"assets.visual:download\", \"assets.analytic_dn_xml:download\", \"assets.visual_xml:download\", \"assets.udm:download\"], \"geometry\": {\"coordinates\": [[[-121.59177198211015, 46.580253585947], [-121.75351991452176, 46.58228886431465], [-121.74832715786964, 46.807201192520445], [-121.5112627963303, 46.8042637480641], [-121.5867938021792, 46.589426483110515], [-121.59018411437354, 46.58034207789953], [-121.59177198211015, 46.580253585947]]], \"type\": \"Polygon\"}, \"id\": \"1558372_1060619_2018-07-11_103d\", \"properties\": {\"acquired\": \"2018-07-11T18:30:24.663754Z\", \"anomalous_pixels\": 0, \"black_fill\": 0.41, \"cloud_cover\": 0, \"columns\": 8000, \"epsg_code\": 32610, \"grid_cell\": \"1060619\", \"ground_control\": true, \"gsd\": 3.9, \"item_type\": \"PSOrthoTile\", \"origin_x\": 595500, \"origin_y\": 5184500, \"pixel_resolution\": 3.125, \"provider\": \"planetscope\", \"published\": \"2018-07-11T22:42:31Z\", \"rows\": 8000, \"satellite_id\": \"103d\", \"strip_id\": \"1558372\", \"sun_azimuth\": 131.3, \"sun_elevation\": 57.9, \"updated\": \"2018-07-12T09:42:33Z\", \"usable_data\": 0.59, \"view_angle\": 0.3}, \"type\": \"Feature\"}, {\"_links\": {\"_self\": \"https://api.planet.com/data/v1/item-types/PSOrthoTile/items/1554579_1060619_2018-07-09_1050\", \"assets\": \"https://api.planet.com/data/v1/item-types/PSOrthoTile/items/1554579_1060619_2018-07-09_1050/assets/\", \"thumbnail\": \"https://tiles.planet.com/data/v1/item-types/PSOrthoTile/items/1554579_1060619_2018-07-09_1050/thumb\"}, \"_permissions\": [\"assets.analytic_xml:download\", \"assets.analytic_dn:download\", \"assets.analytic:download\", \"assets.visual:download\", \"assets.analytic_dn_xml:download\", \"assets.visual_xml:download\", \"assets.udm:download\"], \"geometry\": {\"coordinates\": [[[-121.428264520585, 46.578247729617324], [-121.6999186495756, 46.58161044668129], [-121.74991502560624, 46.738717063067796], [-121.74832715786964, 46.807201192520445], [-121.45427121918978, 46.80355873752675], [-121.42358674806367, 46.707385229895095], [-121.42727746766766, 46.5786902043043], [-121.428264520585, 46.578247729617324]]], \"type\": \"Polygon\"}, \"id\": \"1554579_1060619_2018-07-09_1050\", \"properties\": {\"acquired\": \"2018-07-09T18:11:01.749556Z\", \"anomalous_pixels\": 0, \"black_fill\": 0.11, \"cloud_cover\": 0.001, \"columns\": 8000, \"epsg_code\": 32610, \"grid_cell\": \"1060619\", \"ground_control\": true, \"gsd\": 3.6, \"item_type\": \"PSOrthoTile\", \"origin_x\": 595500, \"origin_y\": 5184500, \"pixel_resolution\": 3.125, \"provider\": \"planetscope\", \"published\": \"2018-07-10T02:42:09Z\", \"rows\": 8000, \"satellite_id\": \"1050\", \"strip_id\": \"1554579\", \"sun_azimuth\": 124.7, \"sun_elevation\": 55.6, \"updated\": \"2018-07-10T08:57:02Z\", \"usable_data\": 0.89, \"view_angle\": 0.1}, \"type\": \"Feature\"}, {\"_links\": {\"_self\": \"https://api.planet.com/data/v1/item-types/PSOrthoTile/items/1546037_1060619_2018-07-05_0f33\", \"assets\": \"https://api.planet.com/data/v1/item-types/PSOrthoTile/items/1546037_1060619_2018-07-05_0f33/assets/\", \"thumbnail\": \"https://tiles.planet.com/data/v1/item-types/PSOrthoTile/items/1546037_1060619_2018-07-05_0f33/thumb\"}, \"_permissions\": [\"assets.analytic_xml:download\", \"assets.analytic_dn:download\", \"assets.analytic:download\", \"assets.visual:download\", \"assets.analytic_dn_xml:download\", \"assets.visual_xml:download\", \"assets.udm:download\"], \"geometry\": {\"coordinates\": [[[-121.42779245179845, 46.578247729617324], [-121.69481172361193, 46.58155145344241], [-121.74965753354084, 46.74968625711564], [-121.74832715786964, 46.807201192520445], [-121.45208253663394, 46.80349998623159], [-121.42332925599827, 46.71530080959166], [-121.42779245179845, 46.578247729617324]]], \"type\": \"Polygon\"}, \"id\": \"1546037_1060619_2018-07-05_0f33\", \"properties\": {\"acquired\": \"2018-07-05T18:11:53.204922Z\", \"anomalous_pixels\": 0, \"black_fill\": 0.12, \"cloud_cover\": 0.001, \"columns\": 8000, \"epsg_code\": 32610, \"grid_cell\": \"1060619\", \"ground_control\": true, \"gsd\": 3.5, \"item_type\": \"PSOrthoTile\", \"origin_x\": 595500, \"origin_y\": 5184500, \"pixel_resolution\": 3.125, \"provider\": \"planetscope\", \"published\": \"2018-07-06T02:30:04Z\", \"rows\": 8000, \"satellite_id\": \"0f33\", \"strip_id\": \"1546037\", \"sun_azimuth\": 124.7, \"sun_elevation\": 56.2, \"updated\": \"2018-07-06T08:46:20Z\", \"usable_data\": 0.88, \"view_angle\": 0}, \"type\": \"Feature\"}, {\"_links\": {\"_self\": \"https://api.planet.com/data/v1/item-types/PSOrthoTile/items/1545409_1060619_2018-07-05_0f4e\", \"assets\": \"https://api.planet.com/data/v1/item-types/PSOrthoTile/items/1545409_1060619_2018-07-05_0f4e/assets/\", \"thumbnail\": \"https://tiles.planet.com/data/v1/item-types/PSOrthoTile/items/1545409_1060619_2018-07-05_0f4e/thumb\"}, \"_permissions\": [\"assets.analytic_xml:download\", \"assets.analytic_dn:download\", \"assets.analytic:download\", \"assets.visual:download\", \"assets.analytic_dn_xml:download\", \"assets.visual_xml:download\", \"assets.udm:download\"], \"geometry\": {\"coordinates\": [[[-121.68670072355204, 46.5814334667721], [-121.75351991452176, 46.58225936807232], [-121.74837007321389, 46.80717181886987], [-121.60838022032806, 46.80546811969181], [-121.68434037961924, 46.58520891286872], [-121.68567075529046, 46.58149246013935], [-121.68670072355204, 46.5814334667721]]], \"type\": \"Polygon\"}, \"id\": \"1545409_1060619_2018-07-05_0f4e\", \"properties\": {\"acquired\": \"2018-07-05T18:31:13.676074Z\", \"anomalous_pixels\": 0, \"black_fill\": 0.69, \"cloud_cover\": 0, \"columns\": 8000, \"epsg_code\": 32610, \"grid_cell\": \"1060619\", \"ground_control\": true, \"gsd\": 4, \"item_type\": \"PSOrthoTile\", \"origin_x\": 595500, \"origin_y\": 5184500, \"pixel_resolution\": 3.125, \"provider\": \"planetscope\", \"published\": \"2018-07-05T22:32:09Z\", \"rows\": 8000, \"satellite_id\": \"0f4e\", \"strip_id\": \"1545409\", \"sun_azimuth\": 131.3, \"sun_elevation\": 58.6, \"updated\": \"2018-07-06T07:46:08Z\", \"usable_data\": 0.31, \"view_angle\": 1.6}, \"type\": \"Feature\"}, {\"_links\": {\"_self\": \"https://api.planet.com/data/v1/item-types/PSOrthoTile/items/1541394_1060619_2018-07-03_1048\", \"assets\": \"https://api.planet.com/data/v1/item-types/PSOrthoTile/items/1541394_1060619_2018-07-03_1048/assets/\", \"thumbnail\": \"https://tiles.planet.com/data/v1/item-types/PSOrthoTile/items/1541394_1060619_2018-07-03_1048/thumb\"}, \"_permissions\": [\"assets.analytic_xml:download\", \"assets.analytic_dn:download\", \"assets.analytic:download\", \"assets.visual:download\", \"assets.analytic_dn_xml:download\", \"assets.visual_xml:download\", \"assets.udm:download\"], \"geometry\": {\"coordinates\": [[[-121.53812780181974, 46.579604640548695], [-121.75351991452176, 46.58225936807232], [-121.74914254940998, 46.77158855641091], [-121.60644902983759, 46.79345257120025], [-121.53812780181974, 46.579604640548695]]], \"type\": \"Polygon\"}, \"id\": \"1541394_1060619_2018-07-03_1048\", \"properties\": {\"acquired\": \"2018-07-03T18:12:37.63984Z\", \"anomalous_pixels\": 0.01, \"black_fill\": 0.52, \"cloud_cover\": 0.003, \"columns\": 8000, \"epsg_code\": 32610, \"grid_cell\": \"1060619\", \"ground_control\": true, \"gsd\": 3.6, \"item_type\": \"PSOrthoTile\", \"origin_x\": 595500, \"origin_y\": 5184500, \"pixel_resolution\": 3.125, \"provider\": \"planetscope\", \"published\": \"2018-07-04T06:44:21Z\", \"rows\": 8000, \"satellite_id\": \"1048\", \"strip_id\": \"1541394\", \"sun_azimuth\": 124.6, \"sun_elevation\": 56.4, \"updated\": \"2018-07-04T06:44:21Z\", \"usable_data\": 0.47, \"view_angle\": 0.1}, \"type\": \"Feature\"}, {\"_links\": {\"_self\": \"https://api.planet.com/data/v1/item-types/PSOrthoTile/items/1540982_1060619_2018-07-03_0f15\", \"assets\": \"https://api.planet.com/data/v1/item-types/PSOrthoTile/items/1540982_1060619_2018-07-03_0f15/assets/\", \"thumbnail\": \"https://tiles.planet.com/data/v1/item-types/PSOrthoTile/items/1540982_1060619_2018-07-03_0f15/thumb\"}, \"_permissions\": [\"assets.analytic_xml:download\", \"assets.analytic_dn:download\", \"assets.analytic:download\", \"assets.visual:download\", \"assets.analytic_dn_xml:download\", \"assets.visual_xml:download\", \"assets.udm:download\"], \"geometry\": {\"coordinates\": [[[-121.51014699738028, 46.57925066705772], [-121.75351991452176, 46.58228886431465], [-121.74832715786964, 46.807201192520445], [-121.4311827639928, 46.803264980409345], [-121.50332345764733, 46.589338005985894], [-121.50692834656284, 46.57925066705772], [-121.51014699738028, 46.57925066705772]]], \"type\": \"Polygon\"}, \"id\": \"1540982_1060619_2018-07-03_0f15\", \"properties\": {\"acquired\": \"2018-07-03T18:29:12.933987Z\", \"anomalous_pixels\": 0.02, \"black_fill\": 0.17, \"cloud_cover\": 0.017, \"columns\": 8000, \"epsg_code\": 32610, \"grid_cell\": \"1060619\", \"ground_control\": true, \"gsd\": 4, \"item_type\": \"PSOrthoTile\", \"origin_x\": 595500, \"origin_y\": 5184500, \"pixel_resolution\": 3.125, \"provider\": \"planetscope\", \"published\": \"2018-07-03T22:47:50Z\", \"rows\": 8000, \"satellite_id\": \"0f15\", \"strip_id\": \"1540982\", \"sun_azimuth\": 130.9, \"sun_elevation\": 58.8, \"updated\": \"2018-07-04T07:20:37Z\", \"usable_data\": 0.81, \"view_angle\": 2.2}, \"type\": \"Feature\"}, {\"_links\": {\"_self\": \"https://api.planet.com/data/v1/item-types/PSOrthoTile/items/1540979_1060619_2018-07-03_0f12\", \"assets\": \"https://api.planet.com/data/v1/item-types/PSOrthoTile/items/1540979_1060619_2018-07-03_0f12/assets/\", \"thumbnail\": \"https://tiles.planet.com/data/v1/item-types/PSOrthoTile/items/1540979_1060619_2018-07-03_0f12/thumb\"}, \"_permissions\": [\"assets.analytic_xml:download\", \"assets.analytic_dn:download\", \"assets.analytic:download\", \"assets.visual:download\", \"assets.analytic_dn_xml:download\", \"assets.visual_xml:download\", \"assets.udm:download\"], \"geometry\": {\"coordinates\": [[[-121.75141706265437, 46.67303170670523], [-121.74832715786964, 46.807201192520445], [-121.70579805173541, 46.80667246435594], [-121.70704259671815, 46.80285371775022], [-121.75141706265437, 46.67303170670523]]], \"type\": \"Polygon\"}, \"id\": \"1540979_1060619_2018-07-03_0f12\", \"properties\": {\"acquired\": \"2018-07-03T18:31:12.844338Z\", \"anomalous_pixels\": 0, \"black_fill\": 0.96, \"cloud_cover\": 0.002, \"columns\": 8000, \"epsg_code\": 32610, \"grid_cell\": \"1060619\", \"ground_control\": true, \"gsd\": 4, \"item_type\": \"PSOrthoTile\", \"origin_x\": 595500, \"origin_y\": 5184500, \"pixel_resolution\": 3.125, \"provider\": \"planetscope\", \"published\": \"2018-07-03T22:41:17Z\", \"rows\": 8000, \"satellite_id\": \"0f12\", \"strip_id\": \"1540979\", \"sun_azimuth\": 131, \"sun_elevation\": 58.8, \"updated\": \"2018-07-04T07:20:13Z\", \"usable_data\": 0.04, \"view_angle\": 0.2}, \"type\": \"Feature\"}], \"type\": \"FeatureCollection\"}\n"
     ]
    }
   ],
   "source": [
    "#now lets get the metadata\n",
    "# fire off the POST request\n",
    "result_metadata = \\\n",
    "  requests.post(\n",
    "    'https://api.planet.com/data/v1/quick-search',\n",
    "    auth=HTTPBasicAuth(PL_API_KEY, ''),\n",
    "    json=stats_endpoint_request)\n",
    "\n",
    "print(result_metadata.text)"
   ]
  },
  {
   "cell_type": "code",
   "execution_count": 41,
   "metadata": {},
   "outputs": [
    {
     "name": "stdout",
     "output_type": "stream",
     "text": [
      "1585833_1060619_2018-07-24_1105\n",
      "1598521_1060619_2018-07-30_1054\n",
      "1597891_1060619_2018-07-30_1025\n",
      "1596058_1060619_2018-07-29_0f49\n",
      "1595937_1060619_2018-07-29_1018\n",
      "1592165_1060619_2018-07-27_0f06\n",
      "1591783_1060619_2018-07-27_1040\n",
      "1589654_1060619_2018-07-26_1039\n",
      "1588148_1060619_2018-07-25_104d\n",
      "1588057_1060619_2018-07-25_100c\n",
      "1585850_1060619_2018-07-24_1033\n",
      "1583967_1060619_2018-07-23_1052\n",
      "1583636_1060619_2018-07-23_0e3a\n",
      "1581579_1060619_2018-07-21_101f\n",
      "1581603_1060619_2018-07-22_0f4e\n",
      "1579873_1060619_2018-07-21_1043\n",
      "1579515_1060619_2018-07-21_1003\n",
      "1577610_1060619_2018-07-20_1051\n",
      "1575928_1060619_2018-07-19_0f40\n",
      "1573403_1060619_2018-07-18_101e\n",
      "1571216_1060619_2018-07-17_0e20\n",
      "1569565_1060619_2018-07-16_0f3b\n",
      "1567358_1060619_2018-07-15_0f4b\n",
      "1567005_1060619_2018-07-15_0f43\n",
      "1564918_1060619_2018-07-14_1038\n",
      "1562763_1060619_2018-07-13_1025\n",
      "1561170_1060619_2018-07-12_0f2d\n",
      "1560547_1060619_2018-07-12_0e0f\n",
      "1558372_1060619_2018-07-11_103d\n",
      "1554579_1060619_2018-07-09_1050\n",
      "1546037_1060619_2018-07-05_0f33\n",
      "1545409_1060619_2018-07-05_0f4e\n",
      "1541394_1060619_2018-07-03_1048\n",
      "1540982_1060619_2018-07-03_0f15\n",
      "1540979_1060619_2018-07-03_0f12\n"
     ]
    }
   ],
   "source": [
    "# Get item ids\n",
    "\n",
    "jstl= json.loads(result_metadata.text)\n",
    "for feature in jstl['features']:\n",
    "    print(feature['id'])"
   ]
  },
  {
   "cell_type": "code",
   "execution_count": 42,
   "metadata": {},
   "outputs": [
    {
     "name": "stdout",
     "output_type": "stream",
     "text": [
      "https://api.planet.com/data/v1/item-types/PSOrthoTile/items/1585833_1060619_2018-07-24_1105/assets/\n",
      "202\n"
     ]
    }
   ],
   "source": [
    "item_id = '1585833_1060619_2018-07-24_1105'\n",
    "item_type = 'PSOrthoTile'\n",
    "asset_type = 'analytic'\n",
    "\n",
    "# setup auth\n",
    "session = requests.Session()\n",
    "session.auth = (PL_API_KEY, '')\n",
    "\n",
    "url = (\"https://api.planet.com/data/v1/item-types/\" + \"{}/items/{}/assets/\").format(item_type, item_id)\n",
    "\n",
    "print (url)\n",
    "# request an item\n",
    "#item = \\\n",
    " # session.get(\n",
    "  #(\"https://api.planet.com/data/v1/item-types/\" +\n",
    "   # \"{}/items/{}/assets/\").format(item_type, item_id))\n",
    "\n",
    "    \n",
    "item = \\\n",
    "  session.get(url)\n",
    "\n",
    "# extract the activation url from the item for the desired asset\n",
    "item_activation_url = item.json()[asset_type][\"_links\"][\"activate\"]\n",
    "\n",
    "# request activation\n",
    "response = session.post(item_activation_url)\n",
    "\n",
    "print(response.status_code)"
   ]
  },
  {
   "cell_type": "code",
   "execution_count": 43,
   "metadata": {
    "scrolled": true
   },
   "outputs": [
    {
     "data": {
      "text/plain": [
       "'activating'"
      ]
     },
     "execution_count": 43,
     "metadata": {},
     "output_type": "execute_result"
    }
   ],
   "source": [
    "# Double check if item is active\n",
    "item.json()[asset_type][\"status\"]"
   ]
  },
  {
   "cell_type": "code",
   "execution_count": 55,
   "metadata": {},
   "outputs": [
    {
     "name": "stdout",
     "output_type": "stream",
     "text": [
      "...Still waiting for clipping to complete...\n",
      "...Still waiting for clipping to complete...\n",
      "...Still waiting for clipping to complete...\n",
      "Clip of scene succeeded and is ready to download\n"
     ]
    }
   ],
   "source": [
    "payload = {\n",
    "    \"aoi\" : geojson_geometry,\n",
    "    \"targets\" : [{\n",
    "        \"item_id\" : item_id, \n",
    "        \"item_type\" : item_type, \n",
    "        \"asset_type\" : asset_type\n",
    "    }]\n",
    "}\n",
    "\n",
    "request = requests.post('https://api.planet.com/compute/ops/clips/v1', auth=(PL_API_KEY, ''), json=payload)\n",
    "clip_url = request.json()['_links']['_self']\n",
    "\n",
    "clip_succeeded = False\n",
    "while not clip_succeeded:\n",
    "\n",
    "    # Poll API\n",
    "    check_state_request = requests.get(clip_url, auth=(PL_API_KEY, ''))\n",
    "    \n",
    "    # If clipping process succeeded , we are done\n",
    "    if check_state_request.json()['state'] == 'succeeded':\n",
    "        clip_download_url = check_state_request.json()['_links']['results'][0]\n",
    "        clip_succeeded = True\n",
    "        print(\"Clip of scene succeeded and is ready to download\") \n",
    "    \n",
    "    # Still activating. Wait 1 second and check again.\n",
    "    else:\n",
    "        print(\"...Still waiting for clipping to complete...\")\n",
    "        time.sleep(1)"
   ]
  },
  {
   "cell_type": "code",
   "execution_count": 62,
   "metadata": {},
   "outputs": [
    {
     "name": "stderr",
     "output_type": "stream",
     "text": [
      "31302it [00:00, 84698.59it/s]"
     ]
    },
    {
     "name": "stdout",
     "output_type": "stream",
     "text": [
      "Downloaded clips located in: output/\n"
     ]
    },
    {
     "name": "stderr",
     "output_type": "stream",
     "text": [
      "\n"
     ]
    }
   ],
   "source": [
    "response = requests.get(clip_download_url, stream=True)\n",
    "with open(item_id + '.zip', \"wb\") as handle:\n",
    "    for data in tqdm(response.iter_content()):\n",
    "        handle.write(data)\n",
    "\n",
    "# Unzip file\n",
    "zipped_item = zipfile.ZipFile(item_id + '.zip')\n",
    "zipped_item.extractall(item_id)    \n",
    "  \n",
    "# Delete zip file\n",
    "os.remove(item_id + '.zip')\n",
    "print('Downloaded clips located in local directory')"
   ]
  },
  {
   "cell_type": "markdown",
   "metadata": {},
   "source": [
    "### Step 2. Extract the data from the red and near-infrared bands\n",
    "\n",
    "In this step, you'll use Rasterio, a Python library for reading and writing geospatial raster datasets, to open the raster image you downloaded (the .tif file). Then you'll extract the data from the red and near-infrared bands and load the band data into arrays that you can manipulate using Python's NumPy libary. Note: in PlanetScope 4-band images, the band order is BGRN: (1) Blue, (2) Green, (3) Red, (4) Near-infrared."
   ]
  },
  {
   "cell_type": "code",
   "execution_count": 64,
   "metadata": {},
   "outputs": [],
   "source": [
    "import rasterio\n",
    "import numpy as np\n",
    "\n",
    "filename = \"1585833_1060619_2018-07-24_1105_BGRN_Analytic_clip.tif\"\n",
    "\n",
    "# Load red and NIR bands - note all PlanetScope 4-band images have band order BGRN\n",
    "with rasterio.open(filename) as src:\n",
    "    band_red = src.read(3)\n",
    "\n",
    "with rasterio.open(filename) as src:\n",
    "    band_nir = src.read(4)"
   ]
  },
  {
   "cell_type": "code",
   "execution_count": 65,
   "metadata": {},
   "outputs": [],
   "source": [
    "from xml.dom import minidom\n",
    "\n",
    "xmldoc = minidom.parse(\"1585833_1060619_2018-07-24_1105_BGRN_Analytic_metadata_clip.xml\")\n",
    "nodes = xmldoc.getElementsByTagName(\"ps:bandSpecificMetadata\")\n",
    "\n",
    "# XML parser refers to bands by numbers 1-4\n",
    "coeffs = {}\n",
    "for node in nodes:\n",
    "    bn = node.getElementsByTagName(\"ps:bandNumber\")[0].firstChild.data\n",
    "    if bn in ['1', '2', '3', '4']:\n",
    "        i = int(bn)\n",
    "        value = node.getElementsByTagName(\"ps:reflectanceCoefficient\")[0].firstChild.data\n",
    "        coeffs[i] = float(value)\n",
    "        \n",
    "# Multiply the Digital Number (DN) values in each band by the TOA reflectance coefficients\n",
    "band_red = band_red * coeffs[3]\n",
    "band_nir = band_nir * coeffs[4]"
   ]
  },
  {
   "cell_type": "code",
   "execution_count": 67,
   "metadata": {},
   "outputs": [
    {
     "data": {
      "text/plain": [
       "(0.3763535124385521, 0.646973199481431)"
      ]
     },
     "execution_count": 67,
     "metadata": {},
     "output_type": "execute_result"
    }
   ],
   "source": [
    "# Allow division by zero\n",
    "np.seterr(divide='ignore', invalid='ignore')\n",
    "\n",
    "# Calculate NDVI. This is the equation at the top of this guide expressed in code\n",
    "ndvi = (band_nir.astype(float) - band_red.astype(float)) / (band_nir + band_red)\n",
    "\n",
    "# check range NDVI values, excluding NaN\n",
    "np.nanmin(ndvi), np.nanmax(ndvi)"
   ]
  },
  {
   "cell_type": "code",
   "execution_count": 68,
   "metadata": {},
   "outputs": [],
   "source": [
    "# Set spatial characteristics of the output object to mirror the input\n",
    "kwargs = src.meta\n",
    "kwargs.update(\n",
    "    dtype=rasterio.float32,\n",
    "    count = 1)\n",
    "\n",
    "# Write band calculations to a new raster file\n",
    "with rasterio.open('ndvi.tif', 'w', **kwargs) as dst:\n",
    "        dst.write_band(1, ndvi.astype(rasterio.float32))"
   ]
  },
  {
   "cell_type": "code",
   "execution_count": 72,
   "metadata": {},
   "outputs": [
    {
     "data": {
      "image/png": "[encoded data removed]",
      "text/plain": [
       "<Figure size 1440x720 with 2 Axes>"
      ]
     },
     "metadata": {},
     "output_type": "display_data"
    }
   ],
   "source": [
    "import matplotlib.pyplot as plt\n",
    "import matplotlib.colors as colors\n",
    "\n",
    "\"\"\"\n",
    "The NDVI values will range from -1 to 1. You want to use a diverging color scheme to visualize the data,\n",
    "and you want to center the colorbar at a defined midpoint. The class below allows you to normalize the colorbar.\n",
    "\"\"\"\n",
    "\n",
    "class MidpointNormalize(colors.Normalize):\n",
    "    \"\"\"\n",
    "    Normalise the colorbar so that diverging bars work there way either side from a prescribed midpoint value)\n",
    "    e.g. im=ax1.imshow(array, norm=MidpointNormalize(midpoint=0.,vmin=-100, vmax=100))\n",
    "    Credit: Joe Kington, http://chris35wills.github.io/matplotlib_diverging_colorbar/\n",
    "    \"\"\"\n",
    "    def __init__(self, vmin=None, vmax=None, midpoint=None, clip=False):\n",
    "        self.midpoint = midpoint\n",
    "        colors.Normalize.__init__(self, vmin, vmax, clip)\n",
    "\n",
    "    def __call__(self, value, clip=None):\n",
    "        # I'm ignoring masked values and all kinds of edge cases to make a\n",
    "        # simple example...\n",
    "        x, y = [self.vmin, self.midpoint, self.vmax], [0, 0.5, 1]\n",
    "        return np.ma.masked_array(np.interp(value, x, y), np.isnan(value))\n",
    "\n",
    "\n",
    "# Set min/max values from NDVI range for image (excluding NAN)\n",
    "# set midpoint according to how NDVI is interpreted: https://earthobservatory.nasa.gov/Features/MeasuringVegetation/\n",
    "min=np.nanmin(ndvi)\n",
    "max=np.nanmax(ndvi)\n",
    "mid=0.1\n",
    "\n",
    "fig = plt.figure(figsize=(20,10))\n",
    "ax = fig.add_subplot(111)\n",
    "\n",
    "# diverging color scheme chosen from https://matplotlib.org/users/colormaps.html\n",
    "cmap = plt.cm.RdYlGn \n",
    "\n",
    "cax = ax.imshow(ndvi, cmap=cmap, clim=(min, max), norm=MidpointNormalize(midpoint=mid,vmin=min, vmax=max))\n",
    "\n",
    "ax.axis('off')\n",
    "ax.set_title('Normalized Difference Vegetation Index', fontsize=18, fontweight='bold')\n",
    "\n",
    "cbar = fig.colorbar(cax, orientation='horizontal', shrink=0.65)\n",
    "\n",
    "fig.savefig(\"ndvi-fig.png\", dpi=200, bbox_inches='tight', pad_inches=0.7)\n",
    "\n",
    "plt.show()"
   ]
  },
  {
   "cell_type": "code",
   "execution_count": 70,
   "metadata": {},
   "outputs": [
    {
     "data": {
      "image/png": "[encoded data removed]",
      "text/plain": [
       "<Figure size 720x720 with 1 Axes>"
      ]
     },
     "metadata": {},
     "output_type": "display_data"
    }
   ],
   "source": [
    "fig2 = plt.figure(figsize=(10,10))\n",
    "ax = fig2.add_subplot(111)\n",
    "\n",
    "plt.title(\"NDVI Histogram\", fontsize=18, fontweight='bold')\n",
    "plt.xlabel(\"NDVI values\", fontsize=14)\n",
    "plt.ylabel(\"# pixels\", fontsize=14)\n",
    "\n",
    "\n",
    "x = ndvi[~np.isnan(ndvi)]\n",
    "numBins = 20\n",
    "ax.hist(x,numBins,color='green',alpha=0.8)\n",
    "\n",
    "fig2.savefig(\"ndvi-histogram.png\", dpi=200, bbox_inches='tight', pad_inches=0.7)\n",
    "\n",
    "plt.show()"
   ]
  },
  {
   "cell_type": "code",
   "execution_count": null,
   "metadata": {},
   "outputs": [],
   "source": []
  }
 ],
 "metadata": {
  "kernelspec": {
   "display_name": "Python [default]",
   "language": "python",
   "name": "python3"
  },
  "language_info": {
   "codemirror_mode": {
    "name": "ipython",
    "version": 3
   },
   "file_extension": ".py",
   "mimetype": "text/x-python",
   "name": "python",
   "nbconvert_exporter": "python",
   "pygments_lexer": "ipython3",
   "version": "3.6.6"
  }
 },
 "nbformat": 4,
 "nbformat_minor": 2
}
