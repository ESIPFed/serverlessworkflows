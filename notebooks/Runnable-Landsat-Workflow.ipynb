{
 "cells": [
  {
   "cell_type": "code",
   "execution_count": 24,
   "metadata": {},
   "outputs": [],
   "source": [
    "import requests\n",
    "import json\n",
    "import os\n",
    "import tarfile\n",
    "from urllib.parse import urlparse\n",
    "from datetime import datetime, timedelta\n",
    "import rasterio as rio\n",
    "import numpy as np\n",
    "from rasterio.warp import calculate_default_transform, reproject, Resampling\n",
    "from rasterio.mask import mask\n",
    "from rasterio.transform import xy\n",
    "from matplotlib import pyplot\n",
    "from rasterio.plot import show\n",
    "from rasterio.plot import show_hist"
   ]
  },
  {
   "cell_type": "code",
   "execution_count": 12,
   "metadata": {},
   "outputs": [],
   "source": [
    "os.environ['USERNAME'] = ''\n",
    "os.environ['PASSWORD'] = ''\n",
    "os.environ['REGION'] = 'CU'\n",
    "os.environ['GEOJSON'] = 'geojson/meadow.geojson'\n",
    "os.environ['DATA_SET_NAME'] = 'ARD_TILE'\n",
    "os.environ['PRODUCT'] = 'SR'\n",
    "os.environ['FILEPATH'] = './tmp/'"
   ]
  },
  {
   "cell_type": "code",
   "execution_count": 13,
   "metadata": {},
   "outputs": [],
   "source": [
    "class Phenology: \n",
    "    def get_apikey(username, password):\n",
    "        payload = dict(username=username, password=password, catalogId='EE', authType='EROS')\n",
    "        data = dict(jsonRequest=json.dumps(payload))\n",
    "        r = requests.post('https://earthexplorer.usgs.gov/inventory/json/v/1.4.0/login', data=data)\n",
    "        creds = r.json()\n",
    "        return creds['data']\n",
    "    \n",
    "    def get_scenes(apiKey, region, horizontal, vertical, start_date, end_date):\n",
    "        myfilter = {\n",
    "                \"filterType\": \"and\", \n",
    "                \"childFilters\": [\n",
    "                    {\"filterType\":\"value\",\"fieldId\":21789,\"value\":region}, #Grid Region\n",
    "                    {\"filterType\":\"value\",\"fieldId\":21787,\"value\":horizontal}, #Horizontal\n",
    "                    {\"filterType\":\"value\",\"fieldId\":21788,\"value\":vertical}, #Vertical\n",
    "                ]\n",
    "            }\n",
    "        startDate, endDate = Phenology.get_dates(start_date, end_date)\n",
    "        temporalfilter = {\n",
    "            \"startDate\": startDate,\n",
    "            \"endDate\": endDate\n",
    "        }\n",
    "        request_code = 'search'\n",
    "        baseurl = f'https://earthexplorer.usgs.gov/inventory/json/v/1.4.0/{request_code}'\n",
    "        payload = {'apiKey':apiKey, \n",
    "                   'datasetName': os.environ['DATA_SET_NAME'], \n",
    "                   \"temporalFilter\": temporalfilter,\n",
    "                   'additionalCriteria': myfilter,  \n",
    "                   'maxResults':10000}\n",
    "        data = dict(jsonRequest=json.dumps(payload))\n",
    "        r = requests.get(baseurl, params=data)\n",
    "        response = r.json()\n",
    "        return response\n",
    "    \n",
    "    # 15 day buffer before start date and after end date\n",
    "    def get_dates(start_date, end_date):\n",
    "        start_date = datetime(int(start_date[:4]), int(start_date[5:7]), int(start_date[-2:]))\n",
    "        end_date = datetime(int(end_date[:4]), int(end_date[5:7]), int(end_date[-2:]))\n",
    "        start = (start_date - timedelta(days=15)).strftime('%Y-%m-%d')\n",
    "        end = (end_date + timedelta(days=15)).strftime('%Y-%m-%d')\n",
    "        return start, end\n",
    "    \n",
    "    def get_url(entityId, apiKey, product=os.environ['PRODUCT']):\n",
    "        request_code = 'download'\n",
    "        baseurl = f'https://earthexplorer.usgs.gov/inventory/json/v/1.4.0/{request_code}'\n",
    "        payload = {'apiKey':apiKey, \n",
    "                   'datasetName': os.environ['DATA_SET_NAME'], \n",
    "                   'entityIds':[entityId],\n",
    "                   'products':[product]} #these are 'download codes' from above\n",
    "        data = dict(jsonRequest=json.dumps(payload))\n",
    "        r = requests.get(baseurl, params=data)\n",
    "        data = r.json()['data']\n",
    "        download_url = r.json()['data'][0]['url']\n",
    "        p = urlparse(download_url)\n",
    "        name = os.path.basename(p.path)\n",
    "        return os.environ['FILEPATH'] + name, download_url\n",
    "    \n",
    "    def download(filename, url):\n",
    "        chunks = 1024*1024\n",
    "        with requests.get(url, stream=True) as r:\n",
    "            with open(filename, 'wb') as f:\n",
    "                for chunk in r.iter_content(chunk_size=chunks):\n",
    "                    f.write(chunk)\n",
    "    \n",
    "    def calculate_NDVI(nir_data, red_data, longitudes, latitudes):\n",
    "        np.seterr(invalid='ignore')\n",
    "        x, y = np.meshgrid(longitudes, latitudes)\n",
    "        nir_data = nir_data.astype(float)\n",
    "        nir_data = nir_data.astype(float)\n",
    "        data = np.array([nir_data.flatten(), red_data.flatten(), x.flatten(), y.flatten()])\n",
    "        data = np.rot90(data)\n",
    "        # filter out negative values and values greater than 10,000\n",
    "        data = data[np.logical_and(np.logical_and(data[:, 0] >= 0, data[:, 1] >= 0), np.logical_and(data[:, 0] <= 10000, data[:, 1] <= 10000))]\n",
    "        ndvi = np.array([np.divide(np.subtract(data[:, 0], data[:, 1]), np.add(data[:, 0], data[:, 1]))])\n",
    "        ndvi = np.rot90(ndvi)\n",
    "        data = np.append(data, ndvi, 1)\n",
    "        # filter out invalid ndvi values\n",
    "        data = data[np.logical_and(data[:, 4] >= -1, data[:, 4] <= 1)]\n",
    "        # calculation of values\n",
    "        maximum = data[:, 4].max() if len(data) != 0 else 'invalid'\n",
    "        flowering = data[np.logical_and(data[:, 4] <= .425, data[:, 4] >= .375)]\n",
    "        FF = round(len(flowering)/len(data), 2) if len(data) != 0 else 'invalid'\n",
    "        VF = 1 - FF if len(data) != 0 else 'invalid'\n",
    "        return {\n",
    "            'avg': round(data[:, 4].mean(), 2) if len(data) != 0 else 'invalid',\n",
    "            'max': round(maximum, 2) if len(data) != 0 else 'invalid',\n",
    "            'min': round(data[:, 4].min(), 2) if len(data) != 0 else 'invalid',\n",
    "            'std': round(data[:, 4].std(), 2) if len(data) != 0 else 'invalid',\n",
    "            'FF': FF,\n",
    "            'VF': VF,\n",
    "            'coordinates': json.dumps(data[data[:, 4] == maximum][:, 2:4].round(4).tolist()) if len(data) != 0 else 'invalid'\n",
    "        }\n",
    "        \n",
    "    def get_reflectance(data):\n",
    "        data = data.astype(float)\n",
    "        # filters values between 0 and 10000\n",
    "        data = np.divide(data[np.logical_and(data >= 0,data <= 10000)], 10000)\n",
    "        return {'avg': round(data.mean(), 2) if data.size != 0 else 'invalid', \n",
    "                'max': round(data.max(), 2) if data.size != 0 else 'invalid', \n",
    "                'min': round(data.min(), 2) if data.size != 0 else 'invalid', \n",
    "                'std': round(data.std(), 2) if data.size != 0 else 'invalid'\n",
    "               }\n",
    "    \n",
    "    def get_statistical_values(tar):\n",
    "        values = {}\n",
    "        with tarfile.open(tar) as tar:\n",
    "            for member in tar.getmembers():\n",
    "                if member.name[-8:] in ['SRB5.tif','SRB4.tif', 'SRB3.tif', 'SRB2.tif']:\n",
    "                    path = os.environ['FILEPATH'] + member.name\n",
    "                    tar.extract(member, path=os.environ['FILEPATH'])\n",
    "                    outpath = Phenology.reproject(path, path + 'cropped')\n",
    "                    data = Phenology.crop_raster_data(outpath)\n",
    "                    if member.name[-8:] == 'SRB4.tif':   \n",
    "                        values['red_data'] = data\n",
    "                        with rio.open(outpath) as src:\n",
    "                            transform = src.meta['transform']\n",
    "                            values['longitudes'] = xy(transform, [x for x in range(src.width)], [y for y in range(src.width)])[0]\n",
    "                            values['latitudes'] = xy(transform, [x for x in range(src.height)], [y for y in range(src.height)])[1]\n",
    "                    if member.name[-8:] == 'SRB3.tif':\n",
    "                        values['green_data'] = data\n",
    "                    if member.name[-8:] == 'SRB2.tif':\n",
    "                        values['blue_data'] = data\n",
    "                    if member.name[-8:] == 'SRB5.tif':\n",
    "                        values['nir_data'] = data\n",
    "        return {'blue_ref': Phenology.get_reflectance(values['blue_data']), \n",
    "                'green_ref': Phenology.get_reflectance(values['green_data']), \n",
    "                'red_ref': Phenology.get_reflectance(values['red_data']), \n",
    "                'NDVI': Phenology.calculate_NDVI(values['nir_data'], \n",
    "                                                 values['red_data'], \n",
    "                                                 values['longitudes'], \n",
    "                                                 values['latitudes'])}\n",
    "\n",
    "    def reproject(inpath, outpath, dst_crs='EPSG:4326'):\n",
    "        with rio.open(inpath) as src:\n",
    "            transform, width, height = calculate_default_transform(\n",
    "                src.crs, dst_crs, src.width, src.height, *src.bounds)\n",
    "            kwargs = src.meta.copy()\n",
    "            kwargs.update({\n",
    "                'crs': dst_crs,\n",
    "                'transform': transform,\n",
    "                'width': width,\n",
    "                'height': height\n",
    "            })\n",
    "\n",
    "            with rio.open(outpath, 'w', **kwargs) as dst:\n",
    "                for i in range(1, src.count + 1):\n",
    "                    reproject(\n",
    "                        source=rio.band(src, i),\n",
    "                        destination=rio.band(dst, i),\n",
    "                        src_transform=src.transform,\n",
    "                        src_crs=src.crs,\n",
    "                        dst_transform=transform,\n",
    "                        dst_crs=dst_crs,\n",
    "                        resampling=Resampling.nearest)\n",
    "        return outpath\n",
    "                    \n",
    "    # returns cropped data and crops the tif file\n",
    "    def crop_raster_data(tif_path):\n",
    "        with rio.open(tif_path) as src:\n",
    "            extent_geojson = env['predecessor_outputs']['2']['extent_geojson']\n",
    "            out_image, out_transform = mask(src, shapes=[json.loads(extent_geojson)], crop=True)\n",
    "            out_meta = src.meta.copy()\n",
    "            out_meta.update({\"driver\": \"GTiff\",\n",
    "                          \"height\": out_image.shape[1],\n",
    "                          \"width\": out_image.shape[2],\n",
    "                          \"transform\": out_transform})\n",
    "            # only needed for the lat lon coordinates\n",
    "            with rio.open(tif_path, \"w\", **out_meta) as dest:\n",
    "                dest.write(out_image)\n",
    "            return out_image[0]\n",
    "        \n",
    "    # returns cropped data and crops the tif file with geojson \n",
    "    def crop_raster_data_geojson(tif_path,extent_geojson):\n",
    "        with rio.open(tif_path) as src:\n",
    "            out_image, out_transform = mask(src, shapes=[json.loads(extent_geojson)], crop=True)\n",
    "            out_meta = src.meta.copy()\n",
    "            out_meta.update({\"driver\": \"GTiff\",\n",
    "                          \"height\": out_image.shape[1],\n",
    "                          \"width\": out_image.shape[2],\n",
    "                          \"transform\": out_transform})\n",
    "            # only needed for the lat lon coordinates\n",
    "            with rio.open(tif_path, \"w\", **out_meta) as dest:\n",
    "                dest.write(out_image)\n",
    "            return out_image[0]    "
   ]
  },
  {
   "cell_type": "code",
   "execution_count": 130,
   "metadata": {},
   "outputs": [],
   "source": [
    "# We are going to read in the green band reflectances\n",
    "# Reflectances are not converted to top of atmosphere (TOA) reflectance, but is in Digital Numbers (DN)\n",
    "# Meadows are covered in snow early part of year, and as snow melts we should see the decrease in reflectance\n",
    "# towards green-up and flowering"
   ]
  },
  {
   "cell_type": "code",
   "execution_count": 131,
   "metadata": {},
   "outputs": [],
   "source": [
    "# Below example assumes files have been already clipped for a region of interest ( a meadow at Mt Rainier)\n",
    "# Earth Explorer download of Zip file done\n",
    "#B4_* RED\n",
    "#B3_* GREEN\n",
    "#B2_* BLUE\n",
    "#B5_* NIR\n",
    "green_meadow_March = rio.open(\"scenes/landsat_images/03302019/raster_files/B3_site4.TIF\")\n",
    "green_meadow_May = rio.open(\"scenes/landsat_images/05012019/raster_files/B3_site4.TIF\")\n",
    "green_meadow_June = rio.open(\"scenes/landsat_images/06112019/raster_files/B3_site4.TIF\")\n",
    "green_meadow_July = rio.open(\"scenes/landsat_images/07292019/raster_files/B3_site4.TIF\")\n",
    "green_meadow_August = rio.open(\"scenes/landsat_images/08142019/raster_files/B3_site4.TIF\")\n"
   ]
  },
  {
   "cell_type": "code",
   "execution_count": 132,
   "metadata": {},
   "outputs": [
    {
     "data": {
      "image/png": "[encoded data removed]",
      "text/plain": [
       "<Figure size 432x288 with 1 Axes>"
      ]
     },
     "metadata": {
      "needs_background": "light"
     },
     "output_type": "display_data"
    },
    {
     "data": {
      "image/png": "[encoded data removed]",
      "text/plain": [
       "<Figure size 432x288 with 1 Axes>"
      ]
     },
     "metadata": {
      "needs_background": "light"
     },
     "output_type": "display_data"
    }
   ],
   "source": [
    "# Green band in March\n",
    "show(green_meadow_March)\n",
    "show_hist(green_meadow_March, bins=50, lw=0.0, stacked=False, alpha=0.3,histtype='stepfilled', title=\"Histogram\")"
   ]
  },
  {
   "cell_type": "code",
   "execution_count": 133,
   "metadata": {},
   "outputs": [
    {
     "data": {
      "image/png": "[encoded data removed]",
      "text/plain": [
       "<Figure size 432x288 with 1 Axes>"
      ]
     },
     "metadata": {
      "needs_background": "light"
     },
     "output_type": "display_data"
    },
    {
     "data": {
      "image/png": "[encoded data removed]",
      "text/plain": [
       "<Figure size 432x288 with 1 Axes>"
      ]
     },
     "metadata": {
      "needs_background": "light"
     },
     "output_type": "display_data"
    }
   ],
   "source": [
    "# Green band in August\n",
    "show(green_meadow_August)\n",
    "show_hist(green_meadow_August, bins=50, lw=0.0, stacked=False, alpha=0.3,histtype='stepfilled', title=\"Histogram\")"
   ]
  },
  {
   "cell_type": "code",
   "execution_count": 134,
   "metadata": {},
   "outputs": [],
   "source": [
    "import seaborn as sns\n",
    "import pandas as pd"
   ]
  },
  {
   "cell_type": "code",
   "execution_count": 135,
   "metadata": {},
   "outputs": [],
   "source": [
    "df_phenology_March=pd.DataFrame(green_meadow_March.read(1))\n",
    "df_phenology_May=pd.DataFrame(green_meadow_May.read(1))\n",
    "df_phenology_June=pd.DataFrame(green_meadow_June.read(1))\n",
    "df_phenology_July=pd.DataFrame(green_meadow_July.read(1))\n",
    "df_phenology_August=pd.DataFrame(green_meadow_August.read(1))"
   ]
  },
  {
   "cell_type": "code",
   "execution_count": 136,
   "metadata": {},
   "outputs": [],
   "source": [
    "# Use the individual reflectances for each image\n",
    "def calculate_mean_reflectance(row):\n",
    "    return np.mean([row[0] , row[1], row[2], row[3]])"
   ]
  },
  {
   "cell_type": "code",
   "execution_count": 137,
   "metadata": {},
   "outputs": [],
   "source": [
    "# Use .apply to save the new column for mean reflectance\n",
    "df_phenology_March['mean_reflectance'] = df_phenology_March.apply(calculate_mean_reflectance,axis=1)\n",
    "df_phenology_May['mean_reflectance'] = df_phenology_May.apply(calculate_mean_reflectance,axis=1)\n",
    "df_phenology_June['mean_reflectance'] = df_phenology_June.apply(calculate_mean_reflectance,axis=1)\n",
    "df_phenology_July['mean_reflectance'] = df_phenology_July.apply(calculate_mean_reflectance,axis=1)\n",
    "df_phenology_August['mean_reflectance'] = df_phenology_August.apply(calculate_mean_reflectance,axis=1)"
   ]
  },
  {
   "cell_type": "code",
   "execution_count": 138,
   "metadata": {},
   "outputs": [],
   "source": [
    "df_phenology_March['Month']='March'\n",
    "df_phenology_May['Month']='May'\n",
    "df_phenology_June['Month']='June'\n",
    "df_phenology_July['Month']='July'\n",
    "df_phenology_August['Month']='August'\n"
   ]
  },
  {
   "cell_type": "code",
   "execution_count": 139,
   "metadata": {},
   "outputs": [],
   "source": [
    "df_pheno=[df_phenology_March,df_phenology_May,df_phenology_June,df_phenology_July,df_phenology_August]"
   ]
  },
  {
   "cell_type": "code",
   "execution_count": 140,
   "metadata": {},
   "outputs": [],
   "source": [
    "df_pheno=pd.concat(df_pheno)"
   ]
  },
  {
   "cell_type": "code",
   "execution_count": 142,
   "metadata": {},
   "outputs": [
    {
     "data": {
      "image/png": "[encoded data removed]",
      "text/plain": [
       "<Figure size 432x288 with 1 Axes>"
      ]
     },
     "metadata": {
      "needs_background": "light"
     },
     "output_type": "display_data"
    }
   ],
   "source": [
    "# Higher reflectance in March \n",
    "# July - possibly peak green-up\n",
    "# August - uptick can be construed as flowering\n",
    "ax = sns.boxplot(x=\"Month\",y=\"mean_reflectance\", palette=\"Set3\",data=df_pheno)"
   ]
  },
  {
   "cell_type": "code",
   "execution_count": null,
   "metadata": {},
   "outputs": [],
   "source": []
  }
 ],
 "metadata": {
  "kernelspec": {
   "display_name": "Python 3",
   "language": "python",
   "name": "python3"
  },
  "language_info": {
   "codemirror_mode": {
    "name": "ipython",
    "version": 3
   },
   "file_extension": ".py",
   "mimetype": "text/x-python",
   "name": "python",
   "nbconvert_exporter": "python",
   "pygments_lexer": "ipython3",
   "version": "3.7.0b5"
  }
 },
 "nbformat": 4,
 "nbformat_minor": 2
}
